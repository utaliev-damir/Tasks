{
 "cells": [
  {
   "cell_type": "markdown",
   "id": "3170d4b8",
   "metadata": {},
   "source": [
    "## Описание задания\n",
    "\n",
    "__Контекст__\n",
    "\n",
    "В приложенных файлах вы увидите данные по прохождению студентами тестов на образовательной платформе. Такие данные могут быть использованы для построения персонализированных ИИ-ассистентов для поддержки обучения студента. На текущем этапе сосредоточимся на начальном этапе — сборе и подготовке данных. Используя библиотеку pandas (или аналоги), проанализировать как можно больше характеристик, влияющих на успеваемость студентов.\n",
    "\n",
    "__Описание данных__\n",
    "\n",
    "Данные были взяты из каггл соревнования и представляют собой вопросы\n",
    "и лекции в рамках Test of English for International Communication(TOEIC).\n",
    "Тест английского языка для международного общения - это международный стандартизированный тест на знание английского языка для лиц, не\n",
    "являющихся носителями языка. Он специально разработан для измерения\n",
    "повседневных навыков владения английским языком людей, работающих в\n",
    "международной среде. Существуют различные формы экзамена TOEIC, в нашем случае это TOEIC Listening Reading, который состоит из двух одинаково градуированных тестов оценки понимания деятельности на общую сумму\n",
    "возможных 990 баллов. В датасете 100 миллионов взаимодействий студента с\n",
    "вопросами или лекциями. Данные взаимодействия описаны тремя таблицами:\n",
    "\n",
    "`TRAIN.CSV:`\n",
    "\n",
    "Это основная таблица, которая связывает студента с вопросом или лекцией, с которыми он взаимодействует, а также дополнительная информация\n",
    "об этом взаимодействии. Список колонок и краткое их описание:\n",
    "\n",
    "* row_id: (int64) порядковый номер строки в этой таблице.\n",
    "* timestamp: (int64) время в миллисекундах между текущим взаимодействием и первым событием связанным с данным ученика.\n",
    "* user_id: (int32) идентификационный код ученика.\n",
    "* content_id: (int16) идентификационный код вопроса или лекции.\n",
    "* content_type_id: (int8) 0 если это вопрос, 1 если лекция.\n",
    "* task_container_id: (int16) идентификационный код группы вопросов, в которой задан текущий вопрос.\n",
    "* user_answer: (int8) вариант ответа, который выбрал ученик. Всего вариантов может быть 4. В случае если взаимодействие - это лекция, а не вопрос, то данное поле равно -1.\n",
    "* answered_correctly: (int8) правильно ли ученик ответил на вопрос. В случае, если взаимодействие - это лекция, а не вопрос, то данное поле равно -1.\n",
    "* prior_question_elapsed_time: (float32) среднее время в миллисекундах, которое ученику потребовалось, чтобы ответить на все вопросы в предыдущей группе, игнорируя любые лекции между ними. Равен 0 для первой группы вопросов, заданной ученику.\n",
    "* prior_question_had_explanation: (bool) смотрел ли ученик объяснение и правильный ответ на предыдущий вопрос.\n",
    "\n",
    "`QUESTIONS.CSV:`\n",
    "\n",
    "Таблица описывающая вопрос. Количество вопросов в отличии от количества учеников заранее зафиксировано, также задания повторно предлагаются\n",
    "различным ученикам. Список колонок:\n",
    "\n",
    "* question_id: внешний ключ(foreign key) для связывание данной информации с таблицей train.\n",
    "* bundle_id: код по которому вопросы объединяются в группы.\n",
    "* correct_answer: правильный ответ на вопрос.\n",
    "* part: один из семи типов вопросов TOEIC. Ниже будет краткое описание каждого\n",
    "* tags: один или несколько кодов с тэгами для данного вопроса. Описание тэгов не представлено, но самих кодов достаточно для того, чтобы\n",
    "сделать кластеризацию.\n",
    "\n",
    "`LECTURES.CSV`\n",
    "\n",
    "Данная таблица аналогична таблице про вопросы, но она про лекции,\n",
    "перейдем к ее описанию:\n",
    "\n",
    "* lecture_id: внешний ключ(foreign key) для связывание данной информации с таблицей train.\n",
    "* type_of: краткое описание основной цели лекции.\n",
    "* part: один из семи типов, который был в таблице с вопросами.\n",
    "* tag: один тэг в качестве числа, который представляет лекцию, его значение не дано, также как и в вопросах.\n",
    "\n",
    "__План выполнения задания__\n",
    "\n",
    "* Первичный обзор данных\n",
    "\n",
    "* Предобработка данных\n",
    "\n",
    "* Выявление характеристик , влияющих на успеваемость студентов\n",
    "\n"
   ]
  },
  {
   "cell_type": "markdown",
   "id": "405fb24b",
   "metadata": {},
   "source": [
    "## Первичный обзор данных"
   ]
  },
  {
   "cell_type": "code",
   "execution_count": 1,
   "id": "7b22bcc6",
   "metadata": {},
   "outputs": [],
   "source": [
    "import pandas as pd\n",
    "import numpy as np\n",
    "from datetime import timedelta\n",
    "from matplotlib import pyplot as plt\n",
    "import seaborn as sns\n",
    "\n",
    "train = pd.read_csv('data/train.csv')\n",
    "questions = pd.read_csv('data/questions.csv')\n",
    "lectures = pd.read_csv('data/lectures.csv')\n"
   ]
  },
  {
   "cell_type": "code",
   "execution_count": 2,
   "id": "4f5ff18d",
   "metadata": {},
   "outputs": [],
   "source": [
    "def info_check(df):\n",
    "    display(df.info())\n",
    "    display(df.describe().T)\n",
    "    display(df.describe(include = 'object').T)\n",
    "    duplicates = df.duplicated().sum()\n",
    "    nas = df.isna().sum()\n",
    "    print('Всего дубликатов в файле:',duplicates,'\\n')\n",
    "    print('Всего пропусков в файле:','\\n'*2,nas,'\\n')\n",
    "    "
   ]
  },
  {
   "cell_type": "markdown",
   "id": "c05a9be7",
   "metadata": {},
   "source": [
    "__Файл TRAIN__"
   ]
  },
  {
   "cell_type": "code",
   "execution_count": 3,
   "id": "a819a8ae",
   "metadata": {},
   "outputs": [
    {
     "name": "stdout",
     "output_type": "stream",
     "text": [
      "<class 'pandas.core.frame.DataFrame'>\n",
      "RangeIndex: 1048575 entries, 0 to 1048574\n",
      "Data columns (total 10 columns):\n",
      " #   Column                          Non-Null Count    Dtype  \n",
      "---  ------                          --------------    -----  \n",
      " 0   row_id                          1048575 non-null  int64  \n",
      " 1   timestamp                       1048575 non-null  int64  \n",
      " 2   user_id                         1048575 non-null  int64  \n",
      " 3   content_id                      1048575 non-null  int64  \n",
      " 4   content_type_id                 1048575 non-null  int64  \n",
      " 5   task_container_id               1048575 non-null  int64  \n",
      " 6   user_answer                     1048575 non-null  int64  \n",
      " 7   answered_correctly              1048575 non-null  int64  \n",
      " 8   prior_question_elapsed_time     1023681 non-null  float64\n",
      " 9   prior_question_had_explanation  1044590 non-null  object \n",
      "dtypes: float64(1), int64(8), object(1)\n",
      "memory usage: 80.0+ MB\n"
     ]
    },
    {
     "data": {
      "text/plain": [
       "None"
      ]
     },
     "metadata": {},
     "output_type": "display_data"
    },
    {
     "data": {
      "text/html": [
       "<div>\n",
       "<style scoped>\n",
       "    .dataframe tbody tr th:only-of-type {\n",
       "        vertical-align: middle;\n",
       "    }\n",
       "\n",
       "    .dataframe tbody tr th {\n",
       "        vertical-align: top;\n",
       "    }\n",
       "\n",
       "    .dataframe thead th {\n",
       "        text-align: right;\n",
       "    }\n",
       "</style>\n",
       "<table border=\"1\" class=\"dataframe\">\n",
       "  <thead>\n",
       "    <tr style=\"text-align: right;\">\n",
       "      <th></th>\n",
       "      <th>count</th>\n",
       "      <th>mean</th>\n",
       "      <th>std</th>\n",
       "      <th>min</th>\n",
       "      <th>25%</th>\n",
       "      <th>50%</th>\n",
       "      <th>75%</th>\n",
       "      <th>max</th>\n",
       "    </tr>\n",
       "  </thead>\n",
       "  <tbody>\n",
       "    <tr>\n",
       "      <th>row_id</th>\n",
       "      <td>1048575.0</td>\n",
       "      <td>5.242870e+05</td>\n",
       "      <td>3.026977e+05</td>\n",
       "      <td>0.0</td>\n",
       "      <td>262143.5</td>\n",
       "      <td>5.242870e+05</td>\n",
       "      <td>7.864305e+05</td>\n",
       "      <td>1.048574e+06</td>\n",
       "    </tr>\n",
       "    <tr>\n",
       "      <th>timestamp</th>\n",
       "      <td>1048575.0</td>\n",
       "      <td>7.468135e+09</td>\n",
       "      <td>1.073095e+10</td>\n",
       "      <td>0.0</td>\n",
       "      <td>523354679.5</td>\n",
       "      <td>2.857688e+09</td>\n",
       "      <td>1.028630e+10</td>\n",
       "      <td>7.809200e+10</td>\n",
       "    </tr>\n",
       "    <tr>\n",
       "      <th>user_id</th>\n",
       "      <td>1048575.0</td>\n",
       "      <td>1.069181e+07</td>\n",
       "      <td>6.342013e+06</td>\n",
       "      <td>115.0</td>\n",
       "      <td>4980312.0</td>\n",
       "      <td>1.038811e+07</td>\n",
       "      <td>1.596357e+07</td>\n",
       "      <td>2.188989e+07</td>\n",
       "    </tr>\n",
       "    <tr>\n",
       "      <th>content_id</th>\n",
       "      <td>1048575.0</td>\n",
       "      <td>5.231905e+03</td>\n",
       "      <td>3.889087e+03</td>\n",
       "      <td>0.0</td>\n",
       "      <td>2042.0</td>\n",
       "      <td>5.045000e+03</td>\n",
       "      <td>7.431000e+03</td>\n",
       "      <td>3.273600e+04</td>\n",
       "    </tr>\n",
       "    <tr>\n",
       "      <th>content_type_id</th>\n",
       "      <td>1048575.0</td>\n",
       "      <td>1.994040e-02</td>\n",
       "      <td>1.397955e-01</td>\n",
       "      <td>0.0</td>\n",
       "      <td>0.0</td>\n",
       "      <td>0.000000e+00</td>\n",
       "      <td>0.000000e+00</td>\n",
       "      <td>1.000000e+00</td>\n",
       "    </tr>\n",
       "    <tr>\n",
       "      <th>task_container_id</th>\n",
       "      <td>1048575.0</td>\n",
       "      <td>8.052636e+02</td>\n",
       "      <td>1.021281e+03</td>\n",
       "      <td>0.0</td>\n",
       "      <td>109.0</td>\n",
       "      <td>3.910000e+02</td>\n",
       "      <td>1.113000e+03</td>\n",
       "      <td>7.739000e+03</td>\n",
       "    </tr>\n",
       "    <tr>\n",
       "      <th>user_answer</th>\n",
       "      <td>1048575.0</td>\n",
       "      <td>1.374361e+00</td>\n",
       "      <td>1.194519e+00</td>\n",
       "      <td>-1.0</td>\n",
       "      <td>0.0</td>\n",
       "      <td>1.000000e+00</td>\n",
       "      <td>3.000000e+00</td>\n",
       "      <td>3.000000e+00</td>\n",
       "    </tr>\n",
       "    <tr>\n",
       "      <th>answered_correctly</th>\n",
       "      <td>1048575.0</td>\n",
       "      <td>6.177565e-01</td>\n",
       "      <td>5.253708e-01</td>\n",
       "      <td>-1.0</td>\n",
       "      <td>0.0</td>\n",
       "      <td>1.000000e+00</td>\n",
       "      <td>1.000000e+00</td>\n",
       "      <td>1.000000e+00</td>\n",
       "    </tr>\n",
       "    <tr>\n",
       "      <th>prior_question_elapsed_time</th>\n",
       "      <td>1023681.0</td>\n",
       "      <td>2.540369e+04</td>\n",
       "      <td>1.982137e+04</td>\n",
       "      <td>0.0</td>\n",
       "      <td>16000.0</td>\n",
       "      <td>2.100000e+04</td>\n",
       "      <td>3.000000e+04</td>\n",
       "      <td>3.000000e+05</td>\n",
       "    </tr>\n",
       "  </tbody>\n",
       "</table>\n",
       "</div>"
      ],
      "text/plain": [
       "                                 count          mean           std    min  \\\n",
       "row_id                       1048575.0  5.242870e+05  3.026977e+05    0.0   \n",
       "timestamp                    1048575.0  7.468135e+09  1.073095e+10    0.0   \n",
       "user_id                      1048575.0  1.069181e+07  6.342013e+06  115.0   \n",
       "content_id                   1048575.0  5.231905e+03  3.889087e+03    0.0   \n",
       "content_type_id              1048575.0  1.994040e-02  1.397955e-01    0.0   \n",
       "task_container_id            1048575.0  8.052636e+02  1.021281e+03    0.0   \n",
       "user_answer                  1048575.0  1.374361e+00  1.194519e+00   -1.0   \n",
       "answered_correctly           1048575.0  6.177565e-01  5.253708e-01   -1.0   \n",
       "prior_question_elapsed_time  1023681.0  2.540369e+04  1.982137e+04    0.0   \n",
       "\n",
       "                                     25%           50%           75%  \\\n",
       "row_id                          262143.5  5.242870e+05  7.864305e+05   \n",
       "timestamp                    523354679.5  2.857688e+09  1.028630e+10   \n",
       "user_id                        4980312.0  1.038811e+07  1.596357e+07   \n",
       "content_id                        2042.0  5.045000e+03  7.431000e+03   \n",
       "content_type_id                      0.0  0.000000e+00  0.000000e+00   \n",
       "task_container_id                  109.0  3.910000e+02  1.113000e+03   \n",
       "user_answer                          0.0  1.000000e+00  3.000000e+00   \n",
       "answered_correctly                   0.0  1.000000e+00  1.000000e+00   \n",
       "prior_question_elapsed_time      16000.0  2.100000e+04  3.000000e+04   \n",
       "\n",
       "                                      max  \n",
       "row_id                       1.048574e+06  \n",
       "timestamp                    7.809200e+10  \n",
       "user_id                      2.188989e+07  \n",
       "content_id                   3.273600e+04  \n",
       "content_type_id              1.000000e+00  \n",
       "task_container_id            7.739000e+03  \n",
       "user_answer                  3.000000e+00  \n",
       "answered_correctly           1.000000e+00  \n",
       "prior_question_elapsed_time  3.000000e+05  "
      ]
     },
     "metadata": {},
     "output_type": "display_data"
    },
    {
     "data": {
      "text/html": [
       "<div>\n",
       "<style scoped>\n",
       "    .dataframe tbody tr th:only-of-type {\n",
       "        vertical-align: middle;\n",
       "    }\n",
       "\n",
       "    .dataframe tbody tr th {\n",
       "        vertical-align: top;\n",
       "    }\n",
       "\n",
       "    .dataframe thead th {\n",
       "        text-align: right;\n",
       "    }\n",
       "</style>\n",
       "<table border=\"1\" class=\"dataframe\">\n",
       "  <thead>\n",
       "    <tr style=\"text-align: right;\">\n",
       "      <th></th>\n",
       "      <th>count</th>\n",
       "      <th>unique</th>\n",
       "      <th>top</th>\n",
       "      <th>freq</th>\n",
       "    </tr>\n",
       "  </thead>\n",
       "  <tbody>\n",
       "    <tr>\n",
       "      <th>prior_question_had_explanation</th>\n",
       "      <td>1044590</td>\n",
       "      <td>2</td>\n",
       "      <td>True</td>\n",
       "      <td>933000</td>\n",
       "    </tr>\n",
       "  </tbody>\n",
       "</table>\n",
       "</div>"
      ],
      "text/plain": [
       "                                  count unique   top    freq\n",
       "prior_question_had_explanation  1044590      2  True  933000"
      ]
     },
     "metadata": {},
     "output_type": "display_data"
    },
    {
     "name": "stdout",
     "output_type": "stream",
     "text": [
      "Всего дубликатов в файле: 0 \n",
      "\n",
      "Всего пропусков в файле: \n",
      "\n",
      " row_id                                0\n",
      "timestamp                             0\n",
      "user_id                               0\n",
      "content_id                            0\n",
      "content_type_id                       0\n",
      "task_container_id                     0\n",
      "user_answer                           0\n",
      "answered_correctly                    0\n",
      "prior_question_elapsed_time       24894\n",
      "prior_question_had_explanation     3985\n",
      "dtype: int64 \n",
      "\n"
     ]
    }
   ],
   "source": [
    "info_check(train)"
   ]
  },
  {
   "cell_type": "markdown",
   "id": "406d46c6",
   "metadata": {},
   "source": [
    "__Файл QUESTIONS__"
   ]
  },
  {
   "cell_type": "code",
   "execution_count": 4,
   "id": "524fc724",
   "metadata": {},
   "outputs": [
    {
     "name": "stdout",
     "output_type": "stream",
     "text": [
      "<class 'pandas.core.frame.DataFrame'>\n",
      "RangeIndex: 13523 entries, 0 to 13522\n",
      "Data columns (total 5 columns):\n",
      " #   Column          Non-Null Count  Dtype \n",
      "---  ------          --------------  ----- \n",
      " 0   question_id     13523 non-null  int64 \n",
      " 1   bundle_id       13523 non-null  int64 \n",
      " 2   correct_answer  13523 non-null  int64 \n",
      " 3   part            13523 non-null  int64 \n",
      " 4   tags            13522 non-null  object\n",
      "dtypes: int64(4), object(1)\n",
      "memory usage: 528.4+ KB\n"
     ]
    },
    {
     "data": {
      "text/plain": [
       "None"
      ]
     },
     "metadata": {},
     "output_type": "display_data"
    },
    {
     "data": {
      "text/html": [
       "<div>\n",
       "<style scoped>\n",
       "    .dataframe tbody tr th:only-of-type {\n",
       "        vertical-align: middle;\n",
       "    }\n",
       "\n",
       "    .dataframe tbody tr th {\n",
       "        vertical-align: top;\n",
       "    }\n",
       "\n",
       "    .dataframe thead th {\n",
       "        text-align: right;\n",
       "    }\n",
       "</style>\n",
       "<table border=\"1\" class=\"dataframe\">\n",
       "  <thead>\n",
       "    <tr style=\"text-align: right;\">\n",
       "      <th></th>\n",
       "      <th>count</th>\n",
       "      <th>mean</th>\n",
       "      <th>std</th>\n",
       "      <th>min</th>\n",
       "      <th>25%</th>\n",
       "      <th>50%</th>\n",
       "      <th>75%</th>\n",
       "      <th>max</th>\n",
       "    </tr>\n",
       "  </thead>\n",
       "  <tbody>\n",
       "    <tr>\n",
       "      <th>question_id</th>\n",
       "      <td>13523.0</td>\n",
       "      <td>6761.000000</td>\n",
       "      <td>3903.898180</td>\n",
       "      <td>0.0</td>\n",
       "      <td>3380.5</td>\n",
       "      <td>6761.0</td>\n",
       "      <td>10141.5</td>\n",
       "      <td>13522.0</td>\n",
       "    </tr>\n",
       "    <tr>\n",
       "      <th>bundle_id</th>\n",
       "      <td>13523.0</td>\n",
       "      <td>6760.510907</td>\n",
       "      <td>3903.857783</td>\n",
       "      <td>0.0</td>\n",
       "      <td>3379.5</td>\n",
       "      <td>6761.0</td>\n",
       "      <td>10140.0</td>\n",
       "      <td>13522.0</td>\n",
       "    </tr>\n",
       "    <tr>\n",
       "      <th>correct_answer</th>\n",
       "      <td>13523.0</td>\n",
       "      <td>1.455298</td>\n",
       "      <td>1.149707</td>\n",
       "      <td>0.0</td>\n",
       "      <td>0.0</td>\n",
       "      <td>1.0</td>\n",
       "      <td>3.0</td>\n",
       "      <td>3.0</td>\n",
       "    </tr>\n",
       "    <tr>\n",
       "      <th>part</th>\n",
       "      <td>13523.0</td>\n",
       "      <td>4.264956</td>\n",
       "      <td>1.652553</td>\n",
       "      <td>1.0</td>\n",
       "      <td>3.0</td>\n",
       "      <td>5.0</td>\n",
       "      <td>5.0</td>\n",
       "      <td>7.0</td>\n",
       "    </tr>\n",
       "  </tbody>\n",
       "</table>\n",
       "</div>"
      ],
      "text/plain": [
       "                  count         mean          std  min     25%     50%  \\\n",
       "question_id     13523.0  6761.000000  3903.898180  0.0  3380.5  6761.0   \n",
       "bundle_id       13523.0  6760.510907  3903.857783  0.0  3379.5  6761.0   \n",
       "correct_answer  13523.0     1.455298     1.149707  0.0     0.0     1.0   \n",
       "part            13523.0     4.264956     1.652553  1.0     3.0     5.0   \n",
       "\n",
       "                    75%      max  \n",
       "question_id     10141.5  13522.0  \n",
       "bundle_id       10140.0  13522.0  \n",
       "correct_answer      3.0      3.0  \n",
       "part                5.0      7.0  "
      ]
     },
     "metadata": {},
     "output_type": "display_data"
    },
    {
     "data": {
      "text/html": [
       "<div>\n",
       "<style scoped>\n",
       "    .dataframe tbody tr th:only-of-type {\n",
       "        vertical-align: middle;\n",
       "    }\n",
       "\n",
       "    .dataframe tbody tr th {\n",
       "        vertical-align: top;\n",
       "    }\n",
       "\n",
       "    .dataframe thead th {\n",
       "        text-align: right;\n",
       "    }\n",
       "</style>\n",
       "<table border=\"1\" class=\"dataframe\">\n",
       "  <thead>\n",
       "    <tr style=\"text-align: right;\">\n",
       "      <th></th>\n",
       "      <th>count</th>\n",
       "      <th>unique</th>\n",
       "      <th>top</th>\n",
       "      <th>freq</th>\n",
       "    </tr>\n",
       "  </thead>\n",
       "  <tbody>\n",
       "    <tr>\n",
       "      <th>tags</th>\n",
       "      <td>13522</td>\n",
       "      <td>1519</td>\n",
       "      <td>8</td>\n",
       "      <td>738</td>\n",
       "    </tr>\n",
       "  </tbody>\n",
       "</table>\n",
       "</div>"
      ],
      "text/plain": [
       "      count unique top freq\n",
       "tags  13522   1519   8  738"
      ]
     },
     "metadata": {},
     "output_type": "display_data"
    },
    {
     "name": "stdout",
     "output_type": "stream",
     "text": [
      "Всего дубликатов в файле: 0 \n",
      "\n",
      "Всего пропусков в файле: \n",
      "\n",
      " question_id       0\n",
      "bundle_id         0\n",
      "correct_answer    0\n",
      "part              0\n",
      "tags              1\n",
      "dtype: int64 \n",
      "\n"
     ]
    }
   ],
   "source": [
    "info_check(questions)"
   ]
  },
  {
   "cell_type": "markdown",
   "id": "7356010d",
   "metadata": {},
   "source": [
    "__Файл Lectures__"
   ]
  },
  {
   "cell_type": "code",
   "execution_count": 5,
   "id": "827b4a6a",
   "metadata": {},
   "outputs": [
    {
     "name": "stdout",
     "output_type": "stream",
     "text": [
      "<class 'pandas.core.frame.DataFrame'>\n",
      "RangeIndex: 418 entries, 0 to 417\n",
      "Data columns (total 4 columns):\n",
      " #   Column      Non-Null Count  Dtype \n",
      "---  ------      --------------  ----- \n",
      " 0   lecture_id  418 non-null    int64 \n",
      " 1   tag         418 non-null    int64 \n",
      " 2   part        418 non-null    int64 \n",
      " 3   type_of     418 non-null    object\n",
      "dtypes: int64(3), object(1)\n",
      "memory usage: 13.2+ KB\n"
     ]
    },
    {
     "data": {
      "text/plain": [
       "None"
      ]
     },
     "metadata": {},
     "output_type": "display_data"
    },
    {
     "data": {
      "text/html": [
       "<div>\n",
       "<style scoped>\n",
       "    .dataframe tbody tr th:only-of-type {\n",
       "        vertical-align: middle;\n",
       "    }\n",
       "\n",
       "    .dataframe tbody tr th {\n",
       "        vertical-align: top;\n",
       "    }\n",
       "\n",
       "    .dataframe thead th {\n",
       "        text-align: right;\n",
       "    }\n",
       "</style>\n",
       "<table border=\"1\" class=\"dataframe\">\n",
       "  <thead>\n",
       "    <tr style=\"text-align: right;\">\n",
       "      <th></th>\n",
       "      <th>count</th>\n",
       "      <th>mean</th>\n",
       "      <th>std</th>\n",
       "      <th>min</th>\n",
       "      <th>25%</th>\n",
       "      <th>50%</th>\n",
       "      <th>75%</th>\n",
       "      <th>max</th>\n",
       "    </tr>\n",
       "  </thead>\n",
       "  <tbody>\n",
       "    <tr>\n",
       "      <th>lecture_id</th>\n",
       "      <td>418.0</td>\n",
       "      <td>16983.401914</td>\n",
       "      <td>9426.164660</td>\n",
       "      <td>89.0</td>\n",
       "      <td>9026.25</td>\n",
       "      <td>17161.5</td>\n",
       "      <td>24906.25</td>\n",
       "      <td>32736.0</td>\n",
       "    </tr>\n",
       "    <tr>\n",
       "      <th>tag</th>\n",
       "      <td>418.0</td>\n",
       "      <td>94.480861</td>\n",
       "      <td>53.586487</td>\n",
       "      <td>0.0</td>\n",
       "      <td>50.25</td>\n",
       "      <td>94.5</td>\n",
       "      <td>140.00</td>\n",
       "      <td>187.0</td>\n",
       "    </tr>\n",
       "    <tr>\n",
       "      <th>part</th>\n",
       "      <td>418.0</td>\n",
       "      <td>4.267943</td>\n",
       "      <td>1.872424</td>\n",
       "      <td>1.0</td>\n",
       "      <td>2.00</td>\n",
       "      <td>5.0</td>\n",
       "      <td>6.00</td>\n",
       "      <td>7.0</td>\n",
       "    </tr>\n",
       "  </tbody>\n",
       "</table>\n",
       "</div>"
      ],
      "text/plain": [
       "            count          mean          std   min      25%      50%  \\\n",
       "lecture_id  418.0  16983.401914  9426.164660  89.0  9026.25  17161.5   \n",
       "tag         418.0     94.480861    53.586487   0.0    50.25     94.5   \n",
       "part        418.0      4.267943     1.872424   1.0     2.00      5.0   \n",
       "\n",
       "                 75%      max  \n",
       "lecture_id  24906.25  32736.0  \n",
       "tag           140.00    187.0  \n",
       "part            6.00      7.0  "
      ]
     },
     "metadata": {},
     "output_type": "display_data"
    },
    {
     "data": {
      "text/html": [
       "<div>\n",
       "<style scoped>\n",
       "    .dataframe tbody tr th:only-of-type {\n",
       "        vertical-align: middle;\n",
       "    }\n",
       "\n",
       "    .dataframe tbody tr th {\n",
       "        vertical-align: top;\n",
       "    }\n",
       "\n",
       "    .dataframe thead th {\n",
       "        text-align: right;\n",
       "    }\n",
       "</style>\n",
       "<table border=\"1\" class=\"dataframe\">\n",
       "  <thead>\n",
       "    <tr style=\"text-align: right;\">\n",
       "      <th></th>\n",
       "      <th>count</th>\n",
       "      <th>unique</th>\n",
       "      <th>top</th>\n",
       "      <th>freq</th>\n",
       "    </tr>\n",
       "  </thead>\n",
       "  <tbody>\n",
       "    <tr>\n",
       "      <th>type_of</th>\n",
       "      <td>418</td>\n",
       "      <td>4</td>\n",
       "      <td>concept</td>\n",
       "      <td>222</td>\n",
       "    </tr>\n",
       "  </tbody>\n",
       "</table>\n",
       "</div>"
      ],
      "text/plain": [
       "        count unique      top freq\n",
       "type_of   418      4  concept  222"
      ]
     },
     "metadata": {},
     "output_type": "display_data"
    },
    {
     "name": "stdout",
     "output_type": "stream",
     "text": [
      "Всего дубликатов в файле: 0 \n",
      "\n",
      "Всего пропусков в файле: \n",
      "\n",
      " lecture_id    0\n",
      "tag           0\n",
      "part          0\n",
      "type_of       0\n",
      "dtype: int64 \n",
      "\n"
     ]
    }
   ],
   "source": [
    "info_check(lectures)"
   ]
  },
  {
   "cell_type": "markdown",
   "id": "c58c6254",
   "metadata": {},
   "source": [
    "__Выводы__\n",
    "\n",
    "В рассматриваемых данных:\n",
    "* отсутсвуют полные дубликаты\n",
    "* в файле Train есть пропуски в столбцах prior_question_elapsed_time, prior_question_had_explanation\n",
    "* в столбце questions['tags'] также есть один пропуск\n",
    "* столбцу lectures['type_of'] можно задать тип category\n",
    "* в файле questions столбец tags имеет тип данных object, хотя представлены данные числовыми кодами\n",
    "* в файле train в столбце 'prior_question_had_explanation' имеют тип object, хотя значения булевы\n",
    "* столбцам train['timestamp'] и train['prior_question_elapsed_time'] можно задать тип timedelta"
   ]
  },
  {
   "cell_type": "markdown",
   "id": "133b7ad0",
   "metadata": {},
   "source": [
    "## Предобработка данных"
   ]
  },
  {
   "cell_type": "markdown",
   "id": "047e14fa",
   "metadata": {},
   "source": [
    "__Обработка пропусков__"
   ]
  },
  {
   "cell_type": "code",
   "execution_count": 6,
   "id": "34c914d0",
   "metadata": {},
   "outputs": [
    {
     "name": "stdout",
     "output_type": "stream",
     "text": [
      "доля пропусков в столбце \"prior_question_had_explanation\"  0.38 %\n"
     ]
    },
    {
     "data": {
      "text/plain": [
       "True     0.893173\n",
       "False    0.106827\n",
       "Name: prior_question_had_explanation, dtype: float64"
      ]
     },
     "metadata": {},
     "output_type": "display_data"
    }
   ],
   "source": [
    "# проверим долю пропусков в столбце 'prior_question_had_explanation' \n",
    "print('доля пропусков в столбце \"prior_question_had_explanation\" ',\n",
    "    round(train['prior_question_had_explanation'].isna().sum()\n",
    "    /train['prior_question_had_explanation'].shape[0]\n",
    "    *100,3),'%'\n",
    ")\n",
    "display(train['prior_question_had_explanation'].value_counts(normalize = True))\n",
    "\n",
    "# в 90% случаев у нас занчение True\n",
    "# заменим пол процента пропусков значением True\n",
    "train['prior_question_had_explanation'] = train['prior_question_had_explanation'].fillna(True)\n"
   ]
  },
  {
   "cell_type": "code",
   "execution_count": 7,
   "id": "cf223de2",
   "metadata": {},
   "outputs": [
    {
     "name": "stdout",
     "output_type": "stream",
     "text": [
      "доля пропусков в столбце \"prior_question_elapsed_time\"  2.374 %\n",
      "В столбце нули есть\n"
     ]
    }
   ],
   "source": [
    "# проверим долю пропусков в столбце 'prior_question_elapsed_time' \n",
    "print('доля пропусков в столбце \"prior_question_elapsed_time\" ',\n",
    "    round(train['prior_question_elapsed_time'].isna().sum()\n",
    "    /train['prior_question_elapsed_time'].shape[0]\n",
    "    *100,3),'%'\n",
    ")\n",
    "\n",
    "# согласно условиям в данном столбце 0 соответсвует первой группе вопросов, заданной ученику.\n",
    "# проверим  есть ли нули вообще\n",
    "\n",
    "if train['prior_question_elapsed_time'].min() == 0:\n",
    "    print(\"В столбце нули есть\")\n",
    "else:\n",
    "    print(\"В столбце нулей нет\")"
   ]
  },
  {
   "cell_type": "code",
   "execution_count": 8,
   "id": "5b7db21c",
   "metadata": {},
   "outputs": [
    {
     "name": "stdout",
     "output_type": "stream",
     "text": [
      "Всего пропусков в столбце \"prior_question_elapsed_time\" : 24894\n"
     ]
    }
   ],
   "source": [
    "print(\n",
    "    'Всего пропусков в столбце \"prior_question_elapsed_time\" :',\n",
    "    train['prior_question_elapsed_time'].isna().sum()\n",
    ")"
   ]
  },
  {
   "cell_type": "code",
   "execution_count": 9,
   "id": "80d0486d",
   "metadata": {},
   "outputs": [
    {
     "name": "stdout",
     "output_type": "stream",
     "text": [
      "Пропуски вызываны лекциями 20909\n"
     ]
    }
   ],
   "source": [
    "print(\n",
    "    \"Пропуски вызываны лекциями\",\n",
    "    train.query('content_type_id == 1')['prior_question_elapsed_time'].isna().sum()\n",
    ")"
   ]
  },
  {
   "cell_type": "code",
   "execution_count": 10,
   "id": "22339982",
   "metadata": {},
   "outputs": [
    {
     "name": "stdout",
     "output_type": "stream",
     "text": [
      "Пропуски вызываны тем, что вопрос первый 3985\n"
     ]
    }
   ],
   "source": [
    "print(\n",
    "    \"Пропуски вызываны тем, что вопрос первый\",\n",
    "    train.query('content_type_id == 0 & content_type_id==0')['prior_question_elapsed_time'].isna().sum()\n",
    ")"
   ]
  },
  {
   "cell_type": "code",
   "execution_count": 11,
   "id": "8c19ea37",
   "metadata": {},
   "outputs": [],
   "source": [
    "train[\"prior_question_elapsed_time\"] = train[\"prior_question_elapsed_time\"].fillna(0)"
   ]
  },
  {
   "cell_type": "code",
   "execution_count": 12,
   "id": "2b7e6eb6",
   "metadata": {},
   "outputs": [
    {
     "name": "stdout",
     "output_type": "stream",
     "text": [
      "доля пропусков в столбце \"prior_question_elapsed_time\" теперь составляет  0.0 %\n"
     ]
    }
   ],
   "source": [
    "# проверим опять долю пропусков в столбце 'prior_question_elapsed_time' \n",
    "print('доля пропусков в столбце \"prior_question_elapsed_time\" теперь составляет ',\n",
    "    round(train['prior_question_elapsed_time'].isna().sum()\n",
    "    /train['prior_question_elapsed_time'].shape[0]\n",
    "    *100,3),'%'\n",
    ")"
   ]
  },
  {
   "cell_type": "code",
   "execution_count": 13,
   "id": "40bb01ed",
   "metadata": {},
   "outputs": [
    {
     "name": "stdout",
     "output_type": "stream",
     "text": [
      "0.007395 %\n"
     ]
    }
   ],
   "source": [
    "# проверим долю пропусков в столбце questions['tags']\n",
    "print(\n",
    "    round(questions['tags'].isna().sum()\n",
    "    /questions['tags'].shape[0]\n",
    "    *100,6),'%'\n",
    ")\n",
    "\n",
    "# всего 0.007395 процента от общего объема\n",
    "# удалим данную часть данных\n",
    "questions = questions.dropna(subset = 'tags')"
   ]
  },
  {
   "cell_type": "markdown",
   "id": "33bec102",
   "metadata": {},
   "source": [
    "__Выводы__\n",
    "\n",
    "* в столбце questions['tags'] было 0.007395 % пропусков, такими значениями можно пренебречь и удалить\n",
    "* выяснили что в столбце train['prior_question_had_explanation'] в 90 % случаев стоит значение True , поэтому заменили пропуски ( которых было всего 0.38 % от общего количества значений) на True, и изменили тип данных столбца на bool\n",
    "*  в столбце train['prior_question_elapsed_time'] изначально было 2.374 % пропусков\n",
    "    * мы посмотрели с каким из столбцов данные пропуски коррелируют, на 15% пропуски коррелировали со значениями из столбца 'task_container_id'\n",
    "    * затем мы выяснили что  в 15% случаев в столбце 'task_container_id' стояли значения 0 - то есть первая группа вопросов\n",
    "    * согласно условиям задачи первой группе вопросов (т.е. нулевой) prior_question_elapsed_time равен 0 \n",
    "    * заменили пропуски на 0 для первой группы вопросов\n",
    "    * доля пропусков в столбце \"prior_question_elapsed_time\" теперь составляет  1.996 %\n",
    "    * удалили строки с данными пропусками"
   ]
  },
  {
   "cell_type": "markdown",
   "id": "a8df7a12",
   "metadata": {},
   "source": [
    "__Изменение типов данных__"
   ]
  },
  {
   "cell_type": "code",
   "execution_count": 14,
   "id": "f881ecf1",
   "metadata": {},
   "outputs": [],
   "source": [
    "# изменим тип данных в столбце questions['tags']\n",
    "\n",
    "questions['tags'] = questions['tags'].apply(lambda x: int(x.replace(' ','')))\n",
    "\n",
    "# изменим тип данных в столбце 'prior_question_had_explanation'\n",
    "train['prior_question_had_explanation'] = train['prior_question_had_explanation'].astype('bool')"
   ]
  },
  {
   "cell_type": "code",
   "execution_count": 15,
   "id": "31148819",
   "metadata": {},
   "outputs": [],
   "source": [
    "# изменим тип данных для временных интервалов с числового на timedelta\n",
    "\n",
    "train['timestamp'] = train['timestamp'].apply(lambda x: timedelta(milliseconds = x))\n",
    "\n",
    "train['prior_question_elapsed_time'] = (\n",
    "    train['prior_question_elapsed_time'].apply(lambda x: timedelta(milliseconds = x))\n",
    ")"
   ]
  },
  {
   "cell_type": "code",
   "execution_count": 16,
   "id": "da385468",
   "metadata": {},
   "outputs": [],
   "source": [
    "# изменим тип данных для столбца lectures['type_of'] на category\n",
    "lectures['type_of'] = lectures['type_of'].astype('category')"
   ]
  },
  {
   "cell_type": "markdown",
   "id": "004ceb81",
   "metadata": {},
   "source": [
    "__Удаление ненужных признаков__"
   ]
  },
  {
   "cell_type": "code",
   "execution_count": 17,
   "id": "f4901885",
   "metadata": {},
   "outputs": [],
   "source": [
    "# удаление признака bundle_id из QUESTIONS\n",
    "questions = questions.drop(['bundle_id','correct_answer'],axis = 1)\n"
   ]
  },
  {
   "cell_type": "markdown",
   "id": "59c52b81",
   "metadata": {},
   "source": [
    "## Выявление характеристик , влияющих на успеваемость студентов"
   ]
  },
  {
   "cell_type": "markdown",
   "id": "f95ac90b",
   "metadata": {},
   "source": [
    "* количество уникальных студентов, участвующих в тестировании\n",
    "\n",
    "* распределение сеансов работы с вопросами по дням\n",
    "* сколько уникальных вопросов приходится на каждую группу вопросов\n",
    "* влияет ли просмотр лекций на количество правильных вопросов?\n",
    "* какая группа вопросов занимает больше всего времени на ответ\n"
   ]
  },
  {
   "cell_type": "code",
   "execution_count": 18,
   "id": "067243e4",
   "metadata": {},
   "outputs": [
    {
     "data": {
      "text/plain": [
       "3995"
      ]
     },
     "execution_count": 18,
     "metadata": {},
     "output_type": "execute_result"
    }
   ],
   "source": [
    "# количество уникальных студентов, участвующих в тестировании\n",
    "\n",
    "user_qty = train['user_id'].nunique()\n",
    "user_qty "
   ]
  },
  {
   "cell_type": "code",
   "execution_count": 19,
   "id": "3f028d5c",
   "metadata": {},
   "outputs": [
    {
     "data": {
      "image/png": "[encoded data removed]",
      "text/plain": [
       "<Figure size 1080x360 with 1 Axes>"
      ]
     },
     "metadata": {
      "needs_background": "light"
     },
     "output_type": "display_data"
    }
   ],
   "source": [
    "# сколько уникальных вопросов приходится на каждую группу вопросов\n",
    "\n",
    "fig_1 = (\n",
    "    train[train['content_type_id']==0]\n",
    "    .groupby('task_container_id')['content_id']\n",
    "    .agg('nunique').reset_index()\n",
    "    .plot(\n",
    "        x='task_container_id',y='content_id',\n",
    "        figsize=(15,5)\n",
    "    )\n",
    ")\n",
    "plt.show()"
   ]
  },
  {
   "cell_type": "code",
   "execution_count": 20,
   "id": "0fba0de9",
   "metadata": {},
   "outputs": [],
   "source": [
    "train['day']=train['timestamp'].dt.days"
   ]
  },
  {
   "cell_type": "code",
   "execution_count": 21,
   "id": "989df2ba",
   "metadata": {
    "scrolled": true
   },
   "outputs": [
    {
     "data": {
      "image/png": "[encoded data removed]",
      "text/plain": [
       "<Figure size 1080x288 with 1 Axes>"
      ]
     },
     "metadata": {
      "needs_background": "light"
     },
     "output_type": "display_data"
    }
   ],
   "source": [
    "plt.figure(figsize = (15,4))\n",
    "plt.xlabel('количество дней')\n",
    "plt.ylabel('количество строк')\n",
    "plt.title('Распредление частоты периодов времени в днях между  взаимодействиям первым событием  учеников. ')\n",
    "train['day'].hist(bins = 100);"
   ]
  },
  {
   "cell_type": "markdown",
   "id": "7c03608c",
   "metadata": {},
   "source": [
    "__Влияние просмотра лекций на успеваемость__"
   ]
  },
  {
   "cell_type": "code",
   "execution_count": 22,
   "id": "34704d43",
   "metadata": {},
   "outputs": [
    {
     "data": {
      "text/html": [
       "<div>\n",
       "<style scoped>\n",
       "    .dataframe tbody tr th:only-of-type {\n",
       "        vertical-align: middle;\n",
       "    }\n",
       "\n",
       "    .dataframe tbody tr th {\n",
       "        vertical-align: top;\n",
       "    }\n",
       "\n",
       "    .dataframe thead th {\n",
       "        text-align: right;\n",
       "    }\n",
       "</style>\n",
       "<table border=\"1\" class=\"dataframe\">\n",
       "  <thead>\n",
       "    <tr style=\"text-align: right;\">\n",
       "      <th></th>\n",
       "      <th>user_id</th>\n",
       "      <th>correct_answers_qty</th>\n",
       "      <th>overall_answers_qty</th>\n",
       "      <th>lectures_qty</th>\n",
       "      <th>success_rate__%</th>\n",
       "      <th>lectures_per_question_%</th>\n",
       "    </tr>\n",
       "  </thead>\n",
       "  <tbody>\n",
       "    <tr>\n",
       "      <th>0</th>\n",
       "      <td>2746</td>\n",
       "      <td>11</td>\n",
       "      <td>19</td>\n",
       "      <td>1</td>\n",
       "      <td>58.0</td>\n",
       "      <td>5.0</td>\n",
       "    </tr>\n",
       "    <tr>\n",
       "      <th>1</th>\n",
       "      <td>5382</td>\n",
       "      <td>84</td>\n",
       "      <td>125</td>\n",
       "      <td>3</td>\n",
       "      <td>67.0</td>\n",
       "      <td>2.0</td>\n",
       "    </tr>\n",
       "    <tr>\n",
       "      <th>2</th>\n",
       "      <td>8623</td>\n",
       "      <td>70</td>\n",
       "      <td>109</td>\n",
       "      <td>3</td>\n",
       "      <td>64.0</td>\n",
       "      <td>3.0</td>\n",
       "    </tr>\n",
       "    <tr>\n",
       "      <th>3</th>\n",
       "      <td>12741</td>\n",
       "      <td>152</td>\n",
       "      <td>265</td>\n",
       "      <td>6</td>\n",
       "      <td>57.0</td>\n",
       "      <td>2.0</td>\n",
       "    </tr>\n",
       "    <tr>\n",
       "      <th>4</th>\n",
       "      <td>13134</td>\n",
       "      <td>878</td>\n",
       "      <td>1243</td>\n",
       "      <td>7</td>\n",
       "      <td>71.0</td>\n",
       "      <td>1.0</td>\n",
       "    </tr>\n",
       "  </tbody>\n",
       "</table>\n",
       "</div>"
      ],
      "text/plain": [
       "   user_id  correct_answers_qty  overall_answers_qty  lectures_qty  \\\n",
       "0     2746                   11                   19             1   \n",
       "1     5382                   84                  125             3   \n",
       "2     8623                   70                  109             3   \n",
       "3    12741                  152                  265             6   \n",
       "4    13134                  878                 1243             7   \n",
       "\n",
       "   success_rate__%  lectures_per_question_%  \n",
       "0             58.0                      5.0  \n",
       "1             67.0                      2.0  \n",
       "2             64.0                      3.0  \n",
       "3             57.0                      2.0  \n",
       "4             71.0                      1.0  "
      ]
     },
     "execution_count": 22,
     "metadata": {},
     "output_type": "execute_result"
    }
   ],
   "source": [
    "# влияет ли просмотр лекций на количество правильных ответов?\n",
    "\n",
    "users_performance = (\n",
    "    train.query('content_type_id == 0')\n",
    "    .groupby('user_id',as_index = False).agg({\n",
    "        'answered_correctly':['sum','count'],\n",
    "    })\n",
    ")\n",
    "users_performance.columns = users_performance.columns.droplevel(1)\n",
    "users_performance.columns = ['user_id','correct_answers_qty','overall_answers_qty']\n",
    "\n",
    "user_lectures = (\n",
    "    train.query('content_type_id == 1')\n",
    "    .groupby('user_id',as_index = False).agg({\n",
    "        'answered_correctly':'count'\n",
    "    })\n",
    ")\n",
    "user_lectures.columns = ['user_id','lectures_qty']\n",
    "\n",
    "users_performance = users_performance.merge(user_lectures, on = 'user_id')\n",
    "users_performance['success_rate__%'] = (\n",
    "    (users_performance['correct_answers_qty']\n",
    "    /users_performance['overall_answers_qty']*100).round()\n",
    ")\n",
    "\n",
    "users_performance['lectures_per_question_%'] = (\n",
    "    ((users_performance['lectures_qty']\n",
    "    /(users_performance['overall_answers_qty']+users_performance['lectures_qty']))*100).round()\n",
    ")\n",
    "users_performance.head() "
   ]
  },
  {
   "cell_type": "code",
   "execution_count": 23,
   "id": "363db3c8",
   "metadata": {},
   "outputs": [
    {
     "data": {
      "image/png": "[encoded data removed]",
      "text/plain": [
       "<Figure size 1080x288 with 1 Axes>"
      ]
     },
     "metadata": {
      "needs_background": "light"
     },
     "output_type": "display_data"
    }
   ],
   "source": [
    "(\n",
    "    users_performance.groupby('lectures_per_question_%',as_index = False)\n",
    "    .agg({'success_rate__%':'median'}).plot(\n",
    "        x = 'lectures_per_question_%',y = 'success_rate__%',\n",
    "        figsize = (15,4)\n",
    "    )\n",
    ");"
   ]
  },
  {
   "cell_type": "code",
   "execution_count": 24,
   "id": "f5bef99e",
   "metadata": {},
   "outputs": [
    {
     "data": {
      "text/html": [
       "<div>\n",
       "<style scoped>\n",
       "    .dataframe tbody tr th:only-of-type {\n",
       "        vertical-align: middle;\n",
       "    }\n",
       "\n",
       "    .dataframe tbody tr th {\n",
       "        vertical-align: top;\n",
       "    }\n",
       "\n",
       "    .dataframe thead th {\n",
       "        text-align: right;\n",
       "    }\n",
       "</style>\n",
       "<table border=\"1\" class=\"dataframe\">\n",
       "  <thead>\n",
       "    <tr style=\"text-align: right;\">\n",
       "      <th></th>\n",
       "      <th>lectures_per_question_%</th>\n",
       "      <th>success_rate__%</th>\n",
       "    </tr>\n",
       "  </thead>\n",
       "  <tbody>\n",
       "    <tr>\n",
       "      <th>0</th>\n",
       "      <td>0.0</td>\n",
       "      <td>68.0</td>\n",
       "    </tr>\n",
       "    <tr>\n",
       "      <th>1</th>\n",
       "      <td>1.0</td>\n",
       "      <td>66.0</td>\n",
       "    </tr>\n",
       "    <tr>\n",
       "      <th>2</th>\n",
       "      <td>2.0</td>\n",
       "      <td>63.0</td>\n",
       "    </tr>\n",
       "    <tr>\n",
       "      <th>3</th>\n",
       "      <td>3.0</td>\n",
       "      <td>62.0</td>\n",
       "    </tr>\n",
       "    <tr>\n",
       "      <th>4</th>\n",
       "      <td>4.0</td>\n",
       "      <td>60.0</td>\n",
       "    </tr>\n",
       "    <tr>\n",
       "      <th>5</th>\n",
       "      <td>5.0</td>\n",
       "      <td>58.0</td>\n",
       "    </tr>\n",
       "    <tr>\n",
       "      <th>6</th>\n",
       "      <td>6.0</td>\n",
       "      <td>58.0</td>\n",
       "    </tr>\n",
       "    <tr>\n",
       "      <th>7</th>\n",
       "      <td>7.0</td>\n",
       "      <td>58.0</td>\n",
       "    </tr>\n",
       "    <tr>\n",
       "      <th>8</th>\n",
       "      <td>8.0</td>\n",
       "      <td>38.0</td>\n",
       "    </tr>\n",
       "    <tr>\n",
       "      <th>9</th>\n",
       "      <td>9.0</td>\n",
       "      <td>44.5</td>\n",
       "    </tr>\n",
       "    <tr>\n",
       "      <th>10</th>\n",
       "      <td>10.0</td>\n",
       "      <td>19.0</td>\n",
       "    </tr>\n",
       "    <tr>\n",
       "      <th>11</th>\n",
       "      <td>11.0</td>\n",
       "      <td>53.0</td>\n",
       "    </tr>\n",
       "    <tr>\n",
       "      <th>12</th>\n",
       "      <td>24.0</td>\n",
       "      <td>30.0</td>\n",
       "    </tr>\n",
       "  </tbody>\n",
       "</table>\n",
       "</div>"
      ],
      "text/plain": [
       "    lectures_per_question_%  success_rate__%\n",
       "0                       0.0             68.0\n",
       "1                       1.0             66.0\n",
       "2                       2.0             63.0\n",
       "3                       3.0             62.0\n",
       "4                       4.0             60.0\n",
       "5                       5.0             58.0\n",
       "6                       6.0             58.0\n",
       "7                       7.0             58.0\n",
       "8                       8.0             38.0\n",
       "9                       9.0             44.5\n",
       "10                     10.0             19.0\n",
       "11                     11.0             53.0\n",
       "12                     24.0             30.0"
      ]
     },
     "execution_count": 24,
     "metadata": {},
     "output_type": "execute_result"
    }
   ],
   "source": [
    "users_performance.groupby('lectures_per_question_%',as_index = False).agg({'success_rate__%':'median'})"
   ]
  },
  {
   "cell_type": "markdown",
   "id": "8f4d554f",
   "metadata": {},
   "source": [
    "__Вывод__\n",
    "\n",
    "Это странно, но мы видим тенденцию, что чем больше доля лекций в общем колчичестве взаимодействий, то тем ниже медианная доля правильных ответов."
   ]
  },
  {
   "cell_type": "markdown",
   "id": "1374f70a",
   "metadata": {},
   "source": [
    "__Влияние группы вопросов на уровень положительных оценок__"
   ]
  },
  {
   "cell_type": "code",
   "execution_count": 25,
   "id": "dcea641a",
   "metadata": {},
   "outputs": [
    {
     "data": {
      "text/html": [
       "<div>\n",
       "<style scoped>\n",
       "    .dataframe tbody tr th:only-of-type {\n",
       "        vertical-align: middle;\n",
       "    }\n",
       "\n",
       "    .dataframe tbody tr th {\n",
       "        vertical-align: top;\n",
       "    }\n",
       "\n",
       "    .dataframe thead th {\n",
       "        text-align: right;\n",
       "    }\n",
       "</style>\n",
       "<table border=\"1\" class=\"dataframe\">\n",
       "  <thead>\n",
       "    <tr style=\"text-align: right;\">\n",
       "      <th></th>\n",
       "      <th>row_id</th>\n",
       "      <th>timestamp</th>\n",
       "      <th>user_id</th>\n",
       "      <th>content_id</th>\n",
       "      <th>content_type_id</th>\n",
       "      <th>task_container_id</th>\n",
       "      <th>user_answer</th>\n",
       "      <th>answered_correctly</th>\n",
       "      <th>prior_question_elapsed_time</th>\n",
       "      <th>prior_question_had_explanation</th>\n",
       "      <th>day</th>\n",
       "    </tr>\n",
       "  </thead>\n",
       "  <tbody>\n",
       "    <tr>\n",
       "      <th>0</th>\n",
       "      <td>0</td>\n",
       "      <td>0 days 00:00:00</td>\n",
       "      <td>115</td>\n",
       "      <td>5692</td>\n",
       "      <td>0</td>\n",
       "      <td>1</td>\n",
       "      <td>3</td>\n",
       "      <td>1</td>\n",
       "      <td>0 days 00:00:00</td>\n",
       "      <td>True</td>\n",
       "      <td>0</td>\n",
       "    </tr>\n",
       "    <tr>\n",
       "      <th>1</th>\n",
       "      <td>1</td>\n",
       "      <td>0 days 00:00:56.943000</td>\n",
       "      <td>115</td>\n",
       "      <td>5716</td>\n",
       "      <td>0</td>\n",
       "      <td>2</td>\n",
       "      <td>2</td>\n",
       "      <td>1</td>\n",
       "      <td>0 days 00:00:37</td>\n",
       "      <td>False</td>\n",
       "      <td>0</td>\n",
       "    </tr>\n",
       "    <tr>\n",
       "      <th>2</th>\n",
       "      <td>2</td>\n",
       "      <td>0 days 00:01:58.363000</td>\n",
       "      <td>115</td>\n",
       "      <td>128</td>\n",
       "      <td>0</td>\n",
       "      <td>0</td>\n",
       "      <td>0</td>\n",
       "      <td>1</td>\n",
       "      <td>0 days 00:00:55</td>\n",
       "      <td>False</td>\n",
       "      <td>0</td>\n",
       "    </tr>\n",
       "    <tr>\n",
       "      <th>3</th>\n",
       "      <td>3</td>\n",
       "      <td>0 days 00:02:11.167000</td>\n",
       "      <td>115</td>\n",
       "      <td>7860</td>\n",
       "      <td>0</td>\n",
       "      <td>3</td>\n",
       "      <td>0</td>\n",
       "      <td>1</td>\n",
       "      <td>0 days 00:00:19</td>\n",
       "      <td>False</td>\n",
       "      <td>0</td>\n",
       "    </tr>\n",
       "    <tr>\n",
       "      <th>4</th>\n",
       "      <td>4</td>\n",
       "      <td>0 days 00:02:17.965000</td>\n",
       "      <td>115</td>\n",
       "      <td>7922</td>\n",
       "      <td>0</td>\n",
       "      <td>4</td>\n",
       "      <td>1</td>\n",
       "      <td>1</td>\n",
       "      <td>0 days 00:00:11</td>\n",
       "      <td>False</td>\n",
       "      <td>0</td>\n",
       "    </tr>\n",
       "  </tbody>\n",
       "</table>\n",
       "</div>"
      ],
      "text/plain": [
       "   row_id              timestamp  user_id  content_id  content_type_id  \\\n",
       "0       0        0 days 00:00:00      115        5692                0   \n",
       "1       1 0 days 00:00:56.943000      115        5716                0   \n",
       "2       2 0 days 00:01:58.363000      115         128                0   \n",
       "3       3 0 days 00:02:11.167000      115        7860                0   \n",
       "4       4 0 days 00:02:17.965000      115        7922                0   \n",
       "\n",
       "   task_container_id  user_answer  answered_correctly  \\\n",
       "0                  1            3                   1   \n",
       "1                  2            2                   1   \n",
       "2                  0            0                   1   \n",
       "3                  3            0                   1   \n",
       "4                  4            1                   1   \n",
       "\n",
       "  prior_question_elapsed_time  prior_question_had_explanation  day  \n",
       "0             0 days 00:00:00                            True    0  \n",
       "1             0 days 00:00:37                           False    0  \n",
       "2             0 days 00:00:55                           False    0  \n",
       "3             0 days 00:00:19                           False    0  \n",
       "4             0 days 00:00:11                           False    0  "
      ]
     },
     "execution_count": 25,
     "metadata": {},
     "output_type": "execute_result"
    }
   ],
   "source": [
    "train.head()"
   ]
  },
  {
   "cell_type": "code",
   "execution_count": 26,
   "id": "a75c9dfb",
   "metadata": {},
   "outputs": [],
   "source": [
    "questions = questions.rename(columns = {'question_id':'task_container_id'})"
   ]
  },
  {
   "cell_type": "code",
   "execution_count": 27,
   "id": "3c59ba58",
   "metadata": {},
   "outputs": [],
   "source": [
    "train = train.merge(questions.iloc[:,[0,1]], on = 'task_container_id',how='left')"
   ]
  },
  {
   "cell_type": "code",
   "execution_count": 28,
   "id": "60da5f7b",
   "metadata": {},
   "outputs": [
    {
     "data": {
      "text/html": [
       "<div>\n",
       "<style scoped>\n",
       "    .dataframe tbody tr th:only-of-type {\n",
       "        vertical-align: middle;\n",
       "    }\n",
       "\n",
       "    .dataframe tbody tr th {\n",
       "        vertical-align: top;\n",
       "    }\n",
       "\n",
       "    .dataframe thead th {\n",
       "        text-align: right;\n",
       "    }\n",
       "</style>\n",
       "<table border=\"1\" class=\"dataframe\">\n",
       "  <thead>\n",
       "    <tr style=\"text-align: right;\">\n",
       "      <th></th>\n",
       "      <th>answ_group_number</th>\n",
       "      <th>correct_answers_qty</th>\n",
       "      <th>overall_answers_qty</th>\n",
       "      <th>success_rate__%</th>\n",
       "    </tr>\n",
       "  </thead>\n",
       "  <tbody>\n",
       "    <tr>\n",
       "      <th>0</th>\n",
       "      <td>1</td>\n",
       "      <td>218522</td>\n",
       "      <td>359823</td>\n",
       "      <td>61.0</td>\n",
       "    </tr>\n",
       "    <tr>\n",
       "      <th>1</th>\n",
       "      <td>2</td>\n",
       "      <td>311915</td>\n",
       "      <td>464359</td>\n",
       "      <td>67.0</td>\n",
       "    </tr>\n",
       "    <tr>\n",
       "      <th>2</th>\n",
       "      <td>3</td>\n",
       "      <td>86981</td>\n",
       "      <td>127416</td>\n",
       "      <td>68.0</td>\n",
       "    </tr>\n",
       "    <tr>\n",
       "      <th>3</th>\n",
       "      <td>4</td>\n",
       "      <td>30088</td>\n",
       "      <td>43855</td>\n",
       "      <td>69.0</td>\n",
       "    </tr>\n",
       "    <tr>\n",
       "      <th>4</th>\n",
       "      <td>5</td>\n",
       "      <td>20753</td>\n",
       "      <td>30814</td>\n",
       "      <td>67.0</td>\n",
       "    </tr>\n",
       "    <tr>\n",
       "      <th>5</th>\n",
       "      <td>6</td>\n",
       "      <td>89</td>\n",
       "      <td>407</td>\n",
       "      <td>22.0</td>\n",
       "    </tr>\n",
       "    <tr>\n",
       "      <th>6</th>\n",
       "      <td>7</td>\n",
       "      <td>325</td>\n",
       "      <td>992</td>\n",
       "      <td>33.0</td>\n",
       "    </tr>\n",
       "  </tbody>\n",
       "</table>\n",
       "</div>"
      ],
      "text/plain": [
       "   answ_group_number  correct_answers_qty  overall_answers_qty  \\\n",
       "0                  1               218522               359823   \n",
       "1                  2               311915               464359   \n",
       "2                  3                86981               127416   \n",
       "3                  4                30088                43855   \n",
       "4                  5                20753                30814   \n",
       "5                  6                   89                  407   \n",
       "6                  7                  325                  992   \n",
       "\n",
       "   success_rate__%  \n",
       "0             61.0  \n",
       "1             67.0  \n",
       "2             68.0  \n",
       "3             69.0  \n",
       "4             67.0  \n",
       "5             22.0  \n",
       "6             33.0  "
      ]
     },
     "execution_count": 28,
     "metadata": {},
     "output_type": "execute_result"
    }
   ],
   "source": [
    "answ_group_impact  = (\n",
    "    train[train['content_type_id']==0]\n",
    "    .groupby('part',as_index = False).agg({'answered_correctly':['sum','count']})\n",
    ")\n",
    "\n",
    "answ_group_impact.columns = answ_group_impact.columns.droplevel(1)\n",
    "answ_group_impact.columns = ['answ_group_number','correct_answers_qty','overall_answers_qty']\n",
    "answ_group_impact['success_rate__%'] = (\n",
    "    (answ_group_impact['correct_answers_qty']\n",
    "    /answ_group_impact['overall_answers_qty']*100).round()\n",
    ")\n",
    "answ_group_impact"
   ]
  },
  {
   "cell_type": "markdown",
   "id": "d7021b7b",
   "metadata": {},
   "source": [
    "__Выводы__\n",
    "\n",
    "Можем увидеть, что процент правильных ответов в группах с первой по пятую приблизительно одинаковый. Но в 6 и 7 ой группах уровень правильных значительно падает. Скорее всего это группы вопросов с повышенной сложностью."
   ]
  }
 ],
 "metadata": {
  "kernelspec": {
   "display_name": "Python 3 (ipykernel)",
   "language": "python",
   "name": "python3"
  },
  "language_info": {
   "codemirror_mode": {
    "name": "ipython",
    "version": 3
   },
   "file_extension": ".py",
   "mimetype": "text/x-python",
   "name": "python",
   "nbconvert_exporter": "python",
   "pygments_lexer": "ipython3",
   "version": "3.9.12"
  }
 },
 "nbformat": 4,
 "nbformat_minor": 5
}
