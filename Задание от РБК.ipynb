{
 "cells": [
  {
   "cell_type": "markdown",
   "id": "71ba805f",
   "metadata": {},
   "source": [
    "__Задание__\t\t\n",
    "* показать понедельную динамику посещаемости сайта за сентябрь-ноябрь 2016. Показатели: визиты, просмотры, среднедневное кол-во визитов на посетителя\t\t\t\n",
    "* рассчитать по каждой отчётной неделе (пн-вс) изменение за неделю и за год (неделя 2016 г. к той же неделе 2015 г.)\t\n",
    "* построить помесячный прогноз трафика проекта на 2017 год (по визитам)\t\t\t\n",
    "* визуализировать полученные данные\t\t\t"
   ]
  },
  {
   "cell_type": "markdown",
   "id": "690f6567",
   "metadata": {},
   "source": [
    "## Обзор и обработка данных"
   ]
  },
  {
   "cell_type": "markdown",
   "id": "23098b92",
   "metadata": {},
   "source": [
    "### Загрузка и обзор данных"
   ]
  },
  {
   "cell_type": "code",
   "execution_count": 1,
   "id": "214f3ae2",
   "metadata": {},
   "outputs": [],
   "source": [
    "# загрузим библиотеки\n",
    "import xlwings as xw\n",
    "import pandas as pd\n",
    "import numpy as np\n",
    "from matplotlib import pyplot as plt"
   ]
  },
  {
   "cell_type": "markdown",
   "id": "6fb69e3c",
   "metadata": {},
   "source": []
  },
  {
   "cell_type": "code",
   "execution_count": 2,
   "id": "1f7f93fc",
   "metadata": {},
   "outputs": [],
   "source": [
    "# загрузим файл, вторую страницу\n",
    "df = pd.read_excel('Аналитик_РБК_тестовое задание.xlsx','Исходные данные')"
   ]
  },
  {
   "cell_type": "code",
   "execution_count": 3,
   "id": "5c38ec85",
   "metadata": {},
   "outputs": [
    {
     "data": {
      "text/html": [
       "<div>\n",
       "<style scoped>\n",
       "    .dataframe tbody tr th:only-of-type {\n",
       "        vertical-align: middle;\n",
       "    }\n",
       "\n",
       "    .dataframe tbody tr th {\n",
       "        vertical-align: top;\n",
       "    }\n",
       "\n",
       "    .dataframe thead th {\n",
       "        text-align: right;\n",
       "    }\n",
       "</style>\n",
       "<table border=\"1\" class=\"dataframe\">\n",
       "  <thead>\n",
       "    <tr style=\"text-align: right;\">\n",
       "      <th></th>\n",
       "      <th>Интервал дат визита</th>\n",
       "      <th>Визиты</th>\n",
       "      <th>Посетители</th>\n",
       "      <th>Просмотры</th>\n",
       "    </tr>\n",
       "  </thead>\n",
       "  <tbody>\n",
       "    <tr>\n",
       "      <th>0</th>\n",
       "      <td>2015-01-01</td>\n",
       "      <td>73800</td>\n",
       "      <td>66742</td>\n",
       "      <td>141136</td>\n",
       "    </tr>\n",
       "    <tr>\n",
       "      <th>1</th>\n",
       "      <td>2015-01-02</td>\n",
       "      <td>94070</td>\n",
       "      <td>85086</td>\n",
       "      <td>179118</td>\n",
       "    </tr>\n",
       "    <tr>\n",
       "      <th>2</th>\n",
       "      <td>2015-01-03</td>\n",
       "      <td>95847</td>\n",
       "      <td>86782</td>\n",
       "      <td>184094</td>\n",
       "    </tr>\n",
       "    <tr>\n",
       "      <th>3</th>\n",
       "      <td>2015-01-04</td>\n",
       "      <td>83911</td>\n",
       "      <td>75901</td>\n",
       "      <td>160691</td>\n",
       "    </tr>\n",
       "    <tr>\n",
       "      <th>4</th>\n",
       "      <td>2015-01-05</td>\n",
       "      <td>105634</td>\n",
       "      <td>94929</td>\n",
       "      <td>206353</td>\n",
       "    </tr>\n",
       "  </tbody>\n",
       "</table>\n",
       "</div>"
      ],
      "text/plain": [
       "  Интервал дат визита  Визиты  Посетители  Просмотры\n",
       "0          2015-01-01   73800       66742     141136\n",
       "1          2015-01-02   94070       85086     179118\n",
       "2          2015-01-03   95847       86782     184094\n",
       "3          2015-01-04   83911       75901     160691\n",
       "4          2015-01-05  105634       94929     206353"
      ]
     },
     "execution_count": 3,
     "metadata": {},
     "output_type": "execute_result"
    }
   ],
   "source": [
    "df.head()"
   ]
  },
  {
   "cell_type": "code",
   "execution_count": 4,
   "id": "e0d8b258",
   "metadata": {},
   "outputs": [
    {
     "name": "stdout",
     "output_type": "stream",
     "text": [
      "<class 'pandas.core.frame.DataFrame'>\n",
      "RangeIndex: 731 entries, 0 to 730\n",
      "Data columns (total 4 columns):\n",
      " #   Column               Non-Null Count  Dtype \n",
      "---  ------               --------------  ----- \n",
      " 0   Интервал дат визита  731 non-null    object\n",
      " 1   Визиты               731 non-null    int64 \n",
      " 2   Посетители           731 non-null    int64 \n",
      " 3   Просмотры            731 non-null    int64 \n",
      "dtypes: int64(3), object(1)\n",
      "memory usage: 23.0+ KB\n"
     ]
    }
   ],
   "source": [
    "df.info()"
   ]
  },
  {
   "cell_type": "code",
   "execution_count": 5,
   "id": "245b6f4d",
   "metadata": {},
   "outputs": [
    {
     "data": {
      "text/plain": [
       "0"
      ]
     },
     "execution_count": 5,
     "metadata": {},
     "output_type": "execute_result"
    }
   ],
   "source": [
    "# проверим наличие дубликатов\n",
    "df.duplicated().sum()"
   ]
  },
  {
   "cell_type": "code",
   "execution_count": 6,
   "id": "f41e1458",
   "metadata": {},
   "outputs": [
    {
     "data": {
      "text/plain": [
       "Интервал дат визита    0\n",
       "Визиты                 0\n",
       "Посетители             0\n",
       "Просмотры              0\n",
       "dtype: int64"
      ]
     },
     "execution_count": 6,
     "metadata": {},
     "output_type": "execute_result"
    }
   ],
   "source": [
    "# проверим наличие пропусков\n",
    "df.isna().sum()"
   ]
  },
  {
   "cell_type": "markdown",
   "id": "4798c9e4",
   "metadata": {},
   "source": [
    "__Вывод__\n",
    "\n",
    "* В файле отсутствуют дубликаты и пропуски\n",
    "* У столбца \"Интервал дат визита\" тип данных не подходящий\n",
    "* Названия столбцов не в змеином регистре"
   ]
  },
  {
   "cell_type": "markdown",
   "id": "48542db1",
   "metadata": {},
   "source": [
    "### Обработка данных"
   ]
  },
  {
   "cell_type": "markdown",
   "id": "fe38d90a",
   "metadata": {},
   "source": [
    "__Основываясь на выводах привидем данные в порядок__"
   ]
  },
  {
   "cell_type": "code",
   "execution_count": 7,
   "id": "36ba86c3",
   "metadata": {},
   "outputs": [],
   "source": [
    "# изменим тип данных в столбце 'Интервал дат визита'\n",
    "df['Интервал дат визита'] = pd.to_datetime(\n",
    "    df['Интервал дат визита'],format = '%Y-%m-%d'\n",
    ")\n",
    "\n",
    "# изменим название столбца 'Интервал дат визита'\n",
    "df = df.rename(columns={'Интервал дат визита': 'Интервал_дат_визита'})\n",
    "\n",
    "# приведем все названия столбцов к нижнему регистру\n",
    "df.columns = df.columns.str.lower()\n"
   ]
  },
  {
   "cell_type": "markdown",
   "id": "2ba4279d",
   "metadata": {},
   "source": [
    "__Добавим дополнительные столбцы__"
   ]
  },
  {
   "cell_type": "code",
   "execution_count": 8,
   "id": "53262481",
   "metadata": {},
   "outputs": [],
   "source": [
    "# добавим столбец номер недели\n",
    "df['номер_недели'] = df['интервал_дат_визита'].dt.isocalendar().week\n",
    "\n",
    "# добавим столбец 'год'\n",
    "df['год'] = df['интервал_дат_визита'].dt.year\n",
    "\n",
    "# добавим столбец 'месяц'\n",
    "df['месяц'] = df['интервал_дат_визита'].dt.month"
   ]
  },
  {
   "cell_type": "markdown",
   "id": "5b2afadf",
   "metadata": {},
   "source": [
    "## Показать понедельную динамику посещаемости сайта \n",
    "\n",
    "* показать понедельную динамику посещаемости сайта за сентябрь-ноябрь 2016. Показатели: визиты, просмотры, среднедневное кол-во визитов на посетителя"
   ]
  },
  {
   "cell_type": "markdown",
   "id": "691bd284",
   "metadata": {},
   "source": [
    "### Создание таблицы по критериям и расчет показателей"
   ]
  },
  {
   "cell_type": "code",
   "execution_count": 9,
   "id": "b193baf0",
   "metadata": {},
   "outputs": [],
   "source": [
    "# создадим таблицу по заданным критериям\n",
    "# воспользуемся методом groupby\n",
    "\n",
    "weekly_grouped_2016_autumn = df[\n",
    "    (df['год'] == 2016)&((df['месяц'] == 9)\n",
    "    |(df['месяц'] == 10)|(df['месяц'] == 11))\n",
    "].groupby(['год','номер_недели']).agg(\n",
    "    {\n",
    "        'визиты':'sum',\n",
    "        'посетители':'sum',\n",
    "        'просмотры':'sum'\n",
    "    }\n",
    ").reset_index()"
   ]
  },
  {
   "cell_type": "code",
   "execution_count": 10,
   "id": "b85462c1",
   "metadata": {
    "scrolled": true
   },
   "outputs": [
    {
     "data": {
      "text/html": [
       "<div>\n",
       "<style scoped>\n",
       "    .dataframe tbody tr th:only-of-type {\n",
       "        vertical-align: middle;\n",
       "    }\n",
       "\n",
       "    .dataframe tbody tr th {\n",
       "        vertical-align: top;\n",
       "    }\n",
       "\n",
       "    .dataframe thead th {\n",
       "        text-align: right;\n",
       "    }\n",
       "</style>\n",
       "<table border=\"1\" class=\"dataframe\">\n",
       "  <thead>\n",
       "    <tr style=\"text-align: right;\">\n",
       "      <th></th>\n",
       "      <th>год</th>\n",
       "      <th>номер_недели</th>\n",
       "      <th>кол-во_визитов</th>\n",
       "      <th>кол-во_посетителей</th>\n",
       "      <th>кол-во_просмотров</th>\n",
       "      <th>среднедневное_визит-посетитель</th>\n",
       "    </tr>\n",
       "  </thead>\n",
       "  <tbody>\n",
       "    <tr>\n",
       "      <th>0</th>\n",
       "      <td>2016</td>\n",
       "      <td>35</td>\n",
       "      <td>501255</td>\n",
       "      <td>440508</td>\n",
       "      <td>760813</td>\n",
       "      <td>1.137902</td>\n",
       "    </tr>\n",
       "    <tr>\n",
       "      <th>1</th>\n",
       "      <td>2016</td>\n",
       "      <td>36</td>\n",
       "      <td>702995</td>\n",
       "      <td>628002</td>\n",
       "      <td>1094608</td>\n",
       "      <td>1.119415</td>\n",
       "    </tr>\n",
       "    <tr>\n",
       "      <th>2</th>\n",
       "      <td>2016</td>\n",
       "      <td>37</td>\n",
       "      <td>550150</td>\n",
       "      <td>492660</td>\n",
       "      <td>915271</td>\n",
       "      <td>1.116693</td>\n",
       "    </tr>\n",
       "    <tr>\n",
       "      <th>3</th>\n",
       "      <td>2016</td>\n",
       "      <td>38</td>\n",
       "      <td>551580</td>\n",
       "      <td>495837</td>\n",
       "      <td>915621</td>\n",
       "      <td>1.112422</td>\n",
       "    </tr>\n",
       "    <tr>\n",
       "      <th>4</th>\n",
       "      <td>2016</td>\n",
       "      <td>39</td>\n",
       "      <td>745469</td>\n",
       "      <td>663834</td>\n",
       "      <td>1259742</td>\n",
       "      <td>1.122975</td>\n",
       "    </tr>\n",
       "  </tbody>\n",
       "</table>\n",
       "</div>"
      ],
      "text/plain": [
       "    год  номер_недели  кол-во_визитов  кол-во_посетителей  кол-во_просмотров  \\\n",
       "0  2016            35          501255              440508             760813   \n",
       "1  2016            36          702995              628002            1094608   \n",
       "2  2016            37          550150              492660             915271   \n",
       "3  2016            38          551580              495837             915621   \n",
       "4  2016            39          745469              663834            1259742   \n",
       "\n",
       "   среднедневное_визит-посетитель  \n",
       "0                        1.137902  \n",
       "1                        1.119415  \n",
       "2                        1.116693  \n",
       "3                        1.112422  \n",
       "4                        1.122975  "
      ]
     },
     "execution_count": 10,
     "metadata": {},
     "output_type": "execute_result"
    }
   ],
   "source": [
    "# расчитаем показатель среднедневное кол-во визитов на посетителя\n",
    "\n",
    "weekly_grouped_2016_autumn.columns = [\n",
    "    'год','номер_недели','кол-во_визитов',\n",
    "    'кол-во_посетителей','кол-во_просмотров'\n",
    "]\n",
    "weekly_grouped_2016_autumn['среднедневное_визит-посетитель'] = (\n",
    "    weekly_grouped_2016_autumn['кол-во_визитов']/\n",
    "    weekly_grouped_2016_autumn['кол-во_посетителей']\n",
    ")\n",
    "weekly_grouped_2016_autumn.head()"
   ]
  },
  {
   "cell_type": "code",
   "execution_count": 11,
   "id": "83842c5d",
   "metadata": {},
   "outputs": [
    {
     "data": {
      "text/html": [
       "<div>\n",
       "<style scoped>\n",
       "    .dataframe tbody tr th:only-of-type {\n",
       "        vertical-align: middle;\n",
       "    }\n",
       "\n",
       "    .dataframe tbody tr th {\n",
       "        vertical-align: top;\n",
       "    }\n",
       "\n",
       "    .dataframe thead th {\n",
       "        text-align: right;\n",
       "    }\n",
       "</style>\n",
       "<table border=\"1\" class=\"dataframe\">\n",
       "  <thead>\n",
       "    <tr style=\"text-align: right;\">\n",
       "      <th></th>\n",
       "      <th>год</th>\n",
       "      <th>номер_недели</th>\n",
       "      <th>кол-во_визитов</th>\n",
       "      <th>кол-во_посетителей</th>\n",
       "      <th>кол-во_просмотров</th>\n",
       "      <th>среднедневное_визит-посетитель</th>\n",
       "    </tr>\n",
       "  </thead>\n",
       "  <tbody>\n",
       "    <tr>\n",
       "      <th>count</th>\n",
       "      <td>14.0</td>\n",
       "      <td>14.0000</td>\n",
       "      <td>1.400000e+01</td>\n",
       "      <td>1.400000e+01</td>\n",
       "      <td>1.400000e+01</td>\n",
       "      <td>14.000000</td>\n",
       "    </tr>\n",
       "    <tr>\n",
       "      <th>mean</th>\n",
       "      <td>2016.0</td>\n",
       "      <td>41.5000</td>\n",
       "      <td>6.995771e+05</td>\n",
       "      <td>6.333176e+05</td>\n",
       "      <td>1.133457e+06</td>\n",
       "      <td>1.106759</td>\n",
       "    </tr>\n",
       "    <tr>\n",
       "      <th>std</th>\n",
       "      <td>0.0</td>\n",
       "      <td>4.1833</td>\n",
       "      <td>2.055831e+05</td>\n",
       "      <td>1.906824e+05</td>\n",
       "      <td>2.717552e+05</td>\n",
       "      <td>0.013658</td>\n",
       "    </tr>\n",
       "    <tr>\n",
       "      <th>min</th>\n",
       "      <td>2016.0</td>\n",
       "      <td>35.0000</td>\n",
       "      <td>2.896480e+05</td>\n",
       "      <td>2.616520e+05</td>\n",
       "      <td>7.236660e+05</td>\n",
       "      <td>1.092175</td>\n",
       "    </tr>\n",
       "    <tr>\n",
       "      <th>25%</th>\n",
       "      <td>2016.0</td>\n",
       "      <td>38.2500</td>\n",
       "      <td>5.674338e+05</td>\n",
       "      <td>5.108775e+05</td>\n",
       "      <td>9.364000e+05</td>\n",
       "      <td>1.094853</td>\n",
       "    </tr>\n",
       "    <tr>\n",
       "      <th>50%</th>\n",
       "      <td>2016.0</td>\n",
       "      <td>41.5000</td>\n",
       "      <td>7.167905e+05</td>\n",
       "      <td>6.538235e+05</td>\n",
       "      <td>1.164284e+06</td>\n",
       "      <td>1.103648</td>\n",
       "    </tr>\n",
       "    <tr>\n",
       "      <th>75%</th>\n",
       "      <td>2016.0</td>\n",
       "      <td>44.7500</td>\n",
       "      <td>7.480408e+05</td>\n",
       "      <td>6.810825e+05</td>\n",
       "      <td>1.217475e+06</td>\n",
       "      <td>1.115625</td>\n",
       "    </tr>\n",
       "    <tr>\n",
       "      <th>max</th>\n",
       "      <td>2016.0</td>\n",
       "      <td>48.0000</td>\n",
       "      <td>1.113021e+06</td>\n",
       "      <td>1.017786e+06</td>\n",
       "      <td>1.667133e+06</td>\n",
       "      <td>1.137902</td>\n",
       "    </tr>\n",
       "  </tbody>\n",
       "</table>\n",
       "</div>"
      ],
      "text/plain": [
       "          год  номер_недели  кол-во_визитов  кол-во_посетителей  \\\n",
       "count    14.0       14.0000    1.400000e+01        1.400000e+01   \n",
       "mean   2016.0       41.5000    6.995771e+05        6.333176e+05   \n",
       "std       0.0        4.1833    2.055831e+05        1.906824e+05   \n",
       "min    2016.0       35.0000    2.896480e+05        2.616520e+05   \n",
       "25%    2016.0       38.2500    5.674338e+05        5.108775e+05   \n",
       "50%    2016.0       41.5000    7.167905e+05        6.538235e+05   \n",
       "75%    2016.0       44.7500    7.480408e+05        6.810825e+05   \n",
       "max    2016.0       48.0000    1.113021e+06        1.017786e+06   \n",
       "\n",
       "       кол-во_просмотров  среднедневное_визит-посетитель  \n",
       "count       1.400000e+01                       14.000000  \n",
       "mean        1.133457e+06                        1.106759  \n",
       "std         2.717552e+05                        0.013658  \n",
       "min         7.236660e+05                        1.092175  \n",
       "25%         9.364000e+05                        1.094853  \n",
       "50%         1.164284e+06                        1.103648  \n",
       "75%         1.217475e+06                        1.115625  \n",
       "max         1.667133e+06                        1.137902  "
      ]
     },
     "execution_count": 11,
     "metadata": {},
     "output_type": "execute_result"
    }
   ],
   "source": [
    "weekly_grouped_2016_autumn.describe()"
   ]
  },
  {
   "cell_type": "markdown",
   "id": "dcb9a3cb",
   "metadata": {},
   "source": [
    "### Визуализация данных"
   ]
  },
  {
   "cell_type": "code",
   "execution_count": 12,
   "id": "f0ae49f1",
   "metadata": {},
   "outputs": [],
   "source": [
    "df_plot = weekly_grouped_2016_autumn\n",
    "for column in ['кол-во_визитов',\n",
    "               'кол-во_посетителей',\n",
    "               'кол-во_просмотров']:\n",
    "    df_plot[column] = (df_plot[column]/1000).round(2)\n",
    "    \n"
   ]
  },
  {
   "cell_type": "code",
   "execution_count": 13,
   "id": "afbad397",
   "metadata": {},
   "outputs": [
    {
     "data": {
      "image/png": "[encoded data removed]",
      "text/plain": [
       "<Figure size 720x360 with 1 Axes>"
      ]
     },
     "metadata": {
      "needs_background": "light"
     },
     "output_type": "display_data"
    }
   ],
   "source": [
    "graph_1 = df_plot.plot(\n",
    "        x = 'номер_недели', y = \n",
    "    ['кол-во_посетителей','кол-во_визитов','кол-во_просмотров'],\n",
    "    title = 'Понедельная динамика посещаемости сайта за сентябрь-ноябрь 2016',\n",
    "    color=[\"darkcyan\",'darkblue','darkorchid'],figsize = (10,5),kind = 'bar',\n",
    "    ylabel = 'Кол-во событий, тыс.'\n",
    "    ).get_figure()\n",
    "\n",
    "plt.grid(color = 'grey', \n",
    "        linewidth = 0.6,\n",
    "        linestyle = '--')\n",
    "plt.show()"
   ]
  },
  {
   "cell_type": "code",
   "execution_count": 14,
   "id": "c1365273",
   "metadata": {
    "scrolled": false
   },
   "outputs": [
    {
     "data": {
      "image/png": "[encoded data removed]",
      "text/plain": [
       "<Figure size 720x360 with 1 Axes>"
      ]
     },
     "metadata": {
      "needs_background": "light"
     },
     "output_type": "display_data"
    }
   ],
   "source": [
    "graph_2 = df_plot.plot(\n",
    "        x = 'номер_недели', y = \n",
    "    ['среднедневное_визит-посетитель'],\n",
    "    color='darkorchid',figsize = (10,5),linewidth = 3,\n",
    "    title = 'Понедельная динамика среднедневного кол-ва визитов на посетителя \\\n",
    "за сентябрь-ноябрь 2016',\n",
    "    ylabel = 'Среднее кол-во посетителей в день, шт.'\n",
    "    ).get_figure()\n",
    "plt.grid(color = 'grey',    \n",
    "        linewidth = 0.6,    \n",
    "        linestyle = '--') \n",
    "plt.show()"
   ]
  },
  {
   "cell_type": "markdown",
   "id": "5a25b246",
   "metadata": {},
   "source": [
    "### Эксопрт данных\n"
   ]
  },
  {
   "cell_type": "code",
   "execution_count": 15,
   "id": "f44e5357",
   "metadata": {},
   "outputs": [
    {
     "data": {
      "text/plain": [
       "<Picture 'График № 2' in <Sheet [РБК задание.xlsx]Динамика осень 2016>>"
      ]
     },
     "execution_count": 15,
     "metadata": {},
     "output_type": "execute_result"
    }
   ],
   "source": [
    "#weekly_grouped_2016_autumn.to_excel(\n",
    "#    'РБК задание.xlsx','Sheet1',index = False\n",
    "#)\n",
    "\n",
    "wb = xw.Book('РБК задание.xlsx')\n",
    "sht = wb.sheets[0]\n",
    "\n",
    "sht[\"A1\"].options(\n",
    "    pd.DataFrame, header=1, index=False, expand='table'\n",
    ").value = weekly_grouped_2016_autumn\n",
    "\n",
    "sht.name = \"Динамика осень 2016\"\n",
    "\n",
    "sht.pictures.add(\n",
    "    graph_1,\n",
    "    name=\"График № 1\",\n",
    "    update=True,\n",
    "    left=sht.range(\"H2\").left,\n",
    "    top=sht.range(\"H2\").top,\n",
    "    height=300,\n",
    "    width=600,\n",
    ")\n",
    "\n",
    "\n",
    "sht.pictures.add(\n",
    "    graph_2,\n",
    "    name=\"График № 2\",\n",
    "    update=True,\n",
    "    left=sht.range(\"H23\").left,\n",
    "    top=sht.range(\"H23\").top,\n",
    "    height=300,\n",
    "    width=600,\n",
    ")"
   ]
  },
  {
   "cell_type": "markdown",
   "id": "d703e044",
   "metadata": {},
   "source": [
    "## Расчет тренда (неделя к неделе, год к году)\n",
    "\n",
    "* рассчитать по каждой отчётной неделе (пн-вс) изменение за неделю и за год (неделя 2016 г. к той же неделе 2015 г.)"
   ]
  },
  {
   "cell_type": "markdown",
   "id": "efbde041",
   "metadata": {},
   "source": [
    "### Расчет показателей"
   ]
  },
  {
   "cell_type": "code",
   "execution_count": 16,
   "id": "8aeb5184",
   "metadata": {},
   "outputs": [],
   "source": [
    "# напишем функцию для сводной таблицу по годам\n",
    "# используем метод pivot\n",
    "\n",
    "def pivot_df(year):\n",
    "    pivot = df.query(f'год == {year}').pivot_table(\n",
    "        index = ['год','номер_недели'],\n",
    "        values = ['визиты','посетители','просмотры'],\n",
    "        aggfunc={\n",
    "            'визиты':'sum',\n",
    "            'посетители':'sum',\n",
    "            'просмотры':'sum'\n",
    "        }\n",
    "    ).reset_index()\n",
    "    pivot.columns = [\n",
    "        'год','номер_недели','кол-во_визитов'\n",
    "        ,'кол-во_посетителей','кол-во_просмотров'\n",
    "    ]\n",
    "    return pivot\n",
    "weekly_grouped_2015 = pivot_df(2015)\n",
    "weekly_grouped_2016 = pivot_df(2016)"
   ]
  },
  {
   "cell_type": "code",
   "execution_count": 17,
   "id": "64818564",
   "metadata": {},
   "outputs": [
    {
     "data": {
      "text/html": [
       "<div>\n",
       "<style scoped>\n",
       "    .dataframe tbody tr th:only-of-type {\n",
       "        vertical-align: middle;\n",
       "    }\n",
       "\n",
       "    .dataframe tbody tr th {\n",
       "        vertical-align: top;\n",
       "    }\n",
       "\n",
       "    .dataframe thead th {\n",
       "        text-align: right;\n",
       "    }\n",
       "</style>\n",
       "<table border=\"1\" class=\"dataframe\">\n",
       "  <thead>\n",
       "    <tr style=\"text-align: right;\">\n",
       "      <th></th>\n",
       "      <th>год</th>\n",
       "      <th>номер_недели</th>\n",
       "      <th>кол-во_визитов</th>\n",
       "      <th>кол-во_посетителей</th>\n",
       "      <th>кол-во_просмотров</th>\n",
       "    </tr>\n",
       "  </thead>\n",
       "  <tbody>\n",
       "    <tr>\n",
       "      <th>0</th>\n",
       "      <td>2016</td>\n",
       "      <td>1</td>\n",
       "      <td>907657</td>\n",
       "      <td>790877</td>\n",
       "      <td>1565890</td>\n",
       "    </tr>\n",
       "    <tr>\n",
       "      <th>1</th>\n",
       "      <td>2016</td>\n",
       "      <td>2</td>\n",
       "      <td>1201621</td>\n",
       "      <td>1050619</td>\n",
       "      <td>1998638</td>\n",
       "    </tr>\n",
       "    <tr>\n",
       "      <th>2</th>\n",
       "      <td>2016</td>\n",
       "      <td>3</td>\n",
       "      <td>922245</td>\n",
       "      <td>848395</td>\n",
       "      <td>1457332</td>\n",
       "    </tr>\n",
       "    <tr>\n",
       "      <th>3</th>\n",
       "      <td>2016</td>\n",
       "      <td>4</td>\n",
       "      <td>882372</td>\n",
       "      <td>786167</td>\n",
       "      <td>1491656</td>\n",
       "    </tr>\n",
       "    <tr>\n",
       "      <th>4</th>\n",
       "      <td>2016</td>\n",
       "      <td>5</td>\n",
       "      <td>830731</td>\n",
       "      <td>736133</td>\n",
       "      <td>1413998</td>\n",
       "    </tr>\n",
       "  </tbody>\n",
       "</table>\n",
       "</div>"
      ],
      "text/plain": [
       "    год  номер_недели  кол-во_визитов  кол-во_посетителей  кол-во_просмотров\n",
       "0  2016             1          907657              790877            1565890\n",
       "1  2016             2         1201621             1050619            1998638\n",
       "2  2016             3          922245              848395            1457332\n",
       "3  2016             4          882372              786167            1491656\n",
       "4  2016             5          830731              736133            1413998"
      ]
     },
     "execution_count": 17,
     "metadata": {},
     "output_type": "execute_result"
    }
   ],
   "source": [
    "weekly_grouped_2016.head()"
   ]
  },
  {
   "cell_type": "code",
   "execution_count": 18,
   "id": "dc685c45",
   "metadata": {},
   "outputs": [
    {
     "data": {
      "text/html": [
       "<div>\n",
       "<style scoped>\n",
       "    .dataframe tbody tr th:only-of-type {\n",
       "        vertical-align: middle;\n",
       "    }\n",
       "\n",
       "    .dataframe tbody tr th {\n",
       "        vertical-align: top;\n",
       "    }\n",
       "\n",
       "    .dataframe thead th {\n",
       "        text-align: right;\n",
       "    }\n",
       "</style>\n",
       "<table border=\"1\" class=\"dataframe\">\n",
       "  <thead>\n",
       "    <tr style=\"text-align: right;\">\n",
       "      <th></th>\n",
       "      <th>год</th>\n",
       "      <th>номер_недели</th>\n",
       "      <th>кол-во_визитов</th>\n",
       "      <th>кол-во_посетителей</th>\n",
       "      <th>кол-во_просмотров</th>\n",
       "    </tr>\n",
       "  </thead>\n",
       "  <tbody>\n",
       "    <tr>\n",
       "      <th>0</th>\n",
       "      <td>2015</td>\n",
       "      <td>1</td>\n",
       "      <td>347628</td>\n",
       "      <td>314511</td>\n",
       "      <td>665039</td>\n",
       "    </tr>\n",
       "    <tr>\n",
       "      <th>1</th>\n",
       "      <td>2015</td>\n",
       "      <td>2</td>\n",
       "      <td>783763</td>\n",
       "      <td>704403</td>\n",
       "      <td>1571735</td>\n",
       "    </tr>\n",
       "    <tr>\n",
       "      <th>2</th>\n",
       "      <td>2015</td>\n",
       "      <td>3</td>\n",
       "      <td>1030030</td>\n",
       "      <td>919881</td>\n",
       "      <td>1967587</td>\n",
       "    </tr>\n",
       "    <tr>\n",
       "      <th>3</th>\n",
       "      <td>2015</td>\n",
       "      <td>4</td>\n",
       "      <td>997147</td>\n",
       "      <td>892820</td>\n",
       "      <td>1896072</td>\n",
       "    </tr>\n",
       "    <tr>\n",
       "      <th>4</th>\n",
       "      <td>2015</td>\n",
       "      <td>5</td>\n",
       "      <td>1095311</td>\n",
       "      <td>981711</td>\n",
       "      <td>2025337</td>\n",
       "    </tr>\n",
       "  </tbody>\n",
       "</table>\n",
       "</div>"
      ],
      "text/plain": [
       "    год  номер_недели  кол-во_визитов  кол-во_посетителей  кол-во_просмотров\n",
       "0  2015             1          347628              314511             665039\n",
       "1  2015             2          783763              704403            1571735\n",
       "2  2015             3         1030030              919881            1967587\n",
       "3  2015             4          997147              892820            1896072\n",
       "4  2015             5         1095311              981711            2025337"
      ]
     },
     "execution_count": 18,
     "metadata": {},
     "output_type": "execute_result"
    }
   ],
   "source": [
    "weekly_grouped_2015.head()"
   ]
  },
  {
   "cell_type": "code",
   "execution_count": 19,
   "id": "4928348e",
   "metadata": {},
   "outputs": [],
   "source": [
    "# объеденим обе таблицы для расчета трендов\n",
    "\n",
    "trend_table = weekly_grouped_2016.merge(weekly_grouped_2015, on = 'номер_недели', how = 'left')\n",
    "\n",
    "trend_table['кол-во_визитов_год_к_году_%'] = ((\n",
    "    (trend_table['кол-во_визитов_x']-trend_table['кол-во_визитов_y'])/\n",
    "    trend_table['кол-во_визитов_y']\n",
    ")*100).apply(round)\n",
    "\n",
    "trend_table['кол-во_посетителей_год_к_году_%'] = ((\n",
    "    (trend_table['кол-во_посетителей_x']-trend_table['кол-во_посетителей_y'])/\n",
    "    trend_table['кол-во_посетителей_y']\n",
    ")*100).apply(round)\n",
    "\n",
    "trend_table['кол-во_просмотров_год_к_году_%'] = ((\n",
    "    (trend_table['кол-во_просмотров_x']-trend_table['кол-во_просмотров_y'])/\n",
    "    trend_table['кол-во_просмотров_y']\n",
    ")*100).apply(round)\n",
    "\n",
    "\n",
    "\n",
    "list_a = [\n",
    "    'кол-во_визитов_неделя_к_неделе_%',\n",
    "    'кол-во_посетителей_неделя_к_неделе_%',\n",
    "    'кол-во_просмотров_неделя_к_неделе_%'\n",
    "]\n",
    "\n",
    "list_b = [\n",
    "    'кол-во_визитов_x',\n",
    "    'кол-во_посетителей_x',\n",
    "    'кол-во_просмотров_x'\n",
    "]\n",
    "\n",
    "\n",
    "for i,j in zip(list_a,list_b):\n",
    "    trend_table[i] = (trend_table[j].pct_change()*100).apply(np.rint)\n",
    "\n"
   ]
  },
  {
   "cell_type": "code",
   "execution_count": 20,
   "id": "593b037f",
   "metadata": {},
   "outputs": [],
   "source": [
    "# отберем необходимые столбцы для \n",
    "# демонстрации результатов\n",
    "\n",
    "trend =  trend_table[\n",
    "    ['год_x','номер_недели','кол-во_визитов_год_к_году_%',\n",
    "    'кол-во_посетителей_год_к_году_%','кол-во_просмотров_год_к_году_%',\n",
    "    'кол-во_визитов_неделя_к_неделе_%','кол-во_посетителей_неделя_к_неделе_%',\n",
    "    'кол-во_просмотров_неделя_к_неделе_%']\n",
    "]"
   ]
  },
  {
   "cell_type": "code",
   "execution_count": 21,
   "id": "bc02dcf0",
   "metadata": {},
   "outputs": [
    {
     "data": {
      "text/html": [
       "<div>\n",
       "<style scoped>\n",
       "    .dataframe tbody tr th:only-of-type {\n",
       "        vertical-align: middle;\n",
       "    }\n",
       "\n",
       "    .dataframe tbody tr th {\n",
       "        vertical-align: top;\n",
       "    }\n",
       "\n",
       "    .dataframe thead th {\n",
       "        text-align: right;\n",
       "    }\n",
       "</style>\n",
       "<table border=\"1\" class=\"dataframe\">\n",
       "  <thead>\n",
       "    <tr style=\"text-align: right;\">\n",
       "      <th></th>\n",
       "      <th>год_x</th>\n",
       "      <th>номер_недели</th>\n",
       "      <th>кол-во_визитов_год_к_году_%</th>\n",
       "      <th>кол-во_посетителей_год_к_году_%</th>\n",
       "      <th>кол-во_просмотров_год_к_году_%</th>\n",
       "      <th>кол-во_визитов_неделя_к_неделе_%</th>\n",
       "      <th>кол-во_посетителей_неделя_к_неделе_%</th>\n",
       "      <th>кол-во_просмотров_неделя_к_неделе_%</th>\n",
       "    </tr>\n",
       "  </thead>\n",
       "  <tbody>\n",
       "    <tr>\n",
       "      <th>0</th>\n",
       "      <td>2016</td>\n",
       "      <td>1</td>\n",
       "      <td>161</td>\n",
       "      <td>151</td>\n",
       "      <td>135</td>\n",
       "      <td>NaN</td>\n",
       "      <td>NaN</td>\n",
       "      <td>NaN</td>\n",
       "    </tr>\n",
       "    <tr>\n",
       "      <th>1</th>\n",
       "      <td>2016</td>\n",
       "      <td>2</td>\n",
       "      <td>53</td>\n",
       "      <td>49</td>\n",
       "      <td>27</td>\n",
       "      <td>32.0</td>\n",
       "      <td>33.0</td>\n",
       "      <td>28.0</td>\n",
       "    </tr>\n",
       "    <tr>\n",
       "      <th>2</th>\n",
       "      <td>2016</td>\n",
       "      <td>3</td>\n",
       "      <td>-10</td>\n",
       "      <td>-8</td>\n",
       "      <td>-26</td>\n",
       "      <td>-23.0</td>\n",
       "      <td>-19.0</td>\n",
       "      <td>-27.0</td>\n",
       "    </tr>\n",
       "  </tbody>\n",
       "</table>\n",
       "</div>"
      ],
      "text/plain": [
       "   год_x  номер_недели  кол-во_визитов_год_к_году_%  \\\n",
       "0   2016             1                          161   \n",
       "1   2016             2                           53   \n",
       "2   2016             3                          -10   \n",
       "\n",
       "   кол-во_посетителей_год_к_году_%  кол-во_просмотров_год_к_году_%  \\\n",
       "0                              151                             135   \n",
       "1                               49                              27   \n",
       "2                               -8                             -26   \n",
       "\n",
       "   кол-во_визитов_неделя_к_неделе_%  кол-во_посетителей_неделя_к_неделе_%  \\\n",
       "0                               NaN                                   NaN   \n",
       "1                              32.0                                  33.0   \n",
       "2                             -23.0                                 -19.0   \n",
       "\n",
       "   кол-во_просмотров_неделя_к_неделе_%  \n",
       "0                                  NaN  \n",
       "1                                 28.0  \n",
       "2                                -27.0  "
      ]
     },
     "execution_count": 21,
     "metadata": {},
     "output_type": "execute_result"
    }
   ],
   "source": [
    "trend.head(3)"
   ]
  },
  {
   "cell_type": "markdown",
   "id": "6134898a",
   "metadata": {},
   "source": [
    "### Визуализация данных"
   ]
  },
  {
   "cell_type": "code",
   "execution_count": 22,
   "id": "4b8e0b88",
   "metadata": {},
   "outputs": [
    {
     "data": {
      "image/png": "[encoded data removed]",
      "text/plain": [
       "<Figure size 720x360 with 1 Axes>"
      ]
     },
     "metadata": {
      "needs_background": "light"
     },
     "output_type": "display_data"
    }
   ],
   "source": [
    "graph_3 = trend.plot(\n",
    "        x = 'номер_недели', y = [\n",
    "            'кол-во_визитов_год_к_году_%',\n",
    "            'кол-во_посетителей_год_к_году_%',\n",
    "            'кол-во_просмотров_год_к_году_%',\n",
    "            'кол-во_визитов_неделя_к_неделе_%',\n",
    "            'кол-во_посетителей_неделя_к_неделе_%',\n",
    "            'кол-во_просмотров_неделя_к_неделе_%'\n",
    "        ],\n",
    "    color=[\n",
    "        \"tomato\",'limegreen','teal',\n",
    "        'deepskyblue', 'red','gray'\n",
    "    ],title = 'Понедельное изменение трендов,%',figsize = (10,5),linewidth = 2,\n",
    "    ylabel = 'Изменение показателя,%',\n",
    "    ).get_figure()\n",
    "\n",
    "plt.grid(color = 'grey',    \n",
    "        linewidth = 0.6,    \n",
    "        linestyle = '--') \n",
    "\n",
    "plt.show()\n",
    "\n",
    "\n"
   ]
  },
  {
   "cell_type": "markdown",
   "id": "2475a8d1",
   "metadata": {},
   "source": [
    "### Эксопрт данных\n",
    "\n"
   ]
  },
  {
   "cell_type": "code",
   "execution_count": 23,
   "id": "f1952fe9",
   "metadata": {},
   "outputs": [
    {
     "data": {
      "text/plain": [
       "<Picture 'График № 3' in <Sheet [РБК задание.xlsx]Динамика трендов>>"
      ]
     },
     "execution_count": 23,
     "metadata": {},
     "output_type": "execute_result"
    }
   ],
   "source": [
    "#trend.to_excel(\n",
    "#    'РБК задание.xlsx','Sheet2',index = False\n",
    "#)\n",
    "\n",
    "wb = xw.Book('РБК задание.xlsx')\n",
    "sht1 = wb.sheets[1]\n",
    "sht1.name = \"Динамика трендов\"\n",
    "\n",
    "sht1[\"A1\"].options(\n",
    "    pd.DataFrame, header=1, index=False, expand='table'\n",
    ").value = trend\n",
    "\n",
    "\n",
    "sht1.pictures.add(\n",
    "    graph_3,\n",
    "    name=\"График № 3\",\n",
    "    update=True,\n",
    "    left=sht1.range(\"M2\").left,\n",
    "    top=sht1.range(\"M2\").top,\n",
    "    height=300,\n",
    "    width=600,\n",
    ")\n"
   ]
  },
  {
   "cell_type": "markdown",
   "id": "a5e9e4e4",
   "metadata": {},
   "source": [
    "## Расчет прогноза"
   ]
  },
  {
   "cell_type": "markdown",
   "id": "9b26631f",
   "metadata": {},
   "source": [
    "### Расчет показателя"
   ]
  },
  {
   "cell_type": "markdown",
   "id": "9bf51f17",
   "metadata": {},
   "source": [
    "Расчет прогноза в данном случае возможен исходя из двух показателей : изменение кол-ва визитов неделя к неделе либо год к году.\n",
    "\n",
    "Горизонт планирования достаточно большой, релевантнее всего строить прогноз на основе изменения трендов год к году. Таким образом мы сможем не исключить возможные сезонные изменения и другие факторы."
   ]
  },
  {
   "cell_type": "code",
   "execution_count": 24,
   "id": "3858cadf",
   "metadata": {},
   "outputs": [],
   "source": [
    "forecast_2017 = pd.DataFrame()"
   ]
  },
  {
   "cell_type": "code",
   "execution_count": 25,
   "id": "4105f4b8",
   "metadata": {},
   "outputs": [],
   "source": [
    "forecast_2017 = trend_table[\n",
    "    [\n",
    "        'номер_недели','кол-во_визитов_x',\n",
    "        'кол-во_визитов_год_к_году_%'\n",
    "    ]\n",
    "]"
   ]
  },
  {
   "cell_type": "code",
   "execution_count": 26,
   "id": "370723a9",
   "metadata": {},
   "outputs": [
    {
     "name": "stderr",
     "output_type": "stream",
     "text": [
      "C:\\Users\\damos\\AppData\\Local\\Temp\\ipykernel_12764\\3186626221.py:1: SettingWithCopyWarning: \n",
      "A value is trying to be set on a copy of a slice from a DataFrame.\n",
      "Try using .loc[row_indexer,col_indexer] = value instead\n",
      "\n",
      "See the caveats in the documentation: https://pandas.pydata.org/pandas-docs/stable/user_guide/indexing.html#returning-a-view-versus-a-copy\n",
      "  forecast_2017['прогноз_2017'] = (\n"
     ]
    }
   ],
   "source": [
    "forecast_2017['прогноз_2017'] = (\n",
    "    forecast_2017['кол-во_визитов_x']+\n",
    "    forecast_2017['кол-во_визитов_x']*\n",
    "    (forecast_2017['кол-во_визитов_год_к_году_%']/100)\n",
    ")"
   ]
  },
  {
   "cell_type": "code",
   "execution_count": 27,
   "id": "4c84afe6",
   "metadata": {},
   "outputs": [
    {
     "data": {
      "text/html": [
       "<div>\n",
       "<style scoped>\n",
       "    .dataframe tbody tr th:only-of-type {\n",
       "        vertical-align: middle;\n",
       "    }\n",
       "\n",
       "    .dataframe tbody tr th {\n",
       "        vertical-align: top;\n",
       "    }\n",
       "\n",
       "    .dataframe thead th {\n",
       "        text-align: right;\n",
       "    }\n",
       "</style>\n",
       "<table border=\"1\" class=\"dataframe\">\n",
       "  <thead>\n",
       "    <tr style=\"text-align: right;\">\n",
       "      <th></th>\n",
       "      <th>номер_недели</th>\n",
       "      <th>кол-во_визитов_2016</th>\n",
       "      <th>кол-во_визитов_год_к_году_%</th>\n",
       "      <th>прогноз_2017</th>\n",
       "    </tr>\n",
       "  </thead>\n",
       "  <tbody>\n",
       "    <tr>\n",
       "      <th>0</th>\n",
       "      <td>1</td>\n",
       "      <td>907657</td>\n",
       "      <td>161</td>\n",
       "      <td>2368984.77</td>\n",
       "    </tr>\n",
       "    <tr>\n",
       "      <th>1</th>\n",
       "      <td>2</td>\n",
       "      <td>1201621</td>\n",
       "      <td>53</td>\n",
       "      <td>1838480.13</td>\n",
       "    </tr>\n",
       "    <tr>\n",
       "      <th>2</th>\n",
       "      <td>3</td>\n",
       "      <td>922245</td>\n",
       "      <td>-10</td>\n",
       "      <td>830020.50</td>\n",
       "    </tr>\n",
       "  </tbody>\n",
       "</table>\n",
       "</div>"
      ],
      "text/plain": [
       "   номер_недели  кол-во_визитов_2016  кол-во_визитов_год_к_году_%  \\\n",
       "0             1               907657                          161   \n",
       "1             2              1201621                           53   \n",
       "2             3               922245                          -10   \n",
       "\n",
       "   прогноз_2017  \n",
       "0    2368984.77  \n",
       "1    1838480.13  \n",
       "2     830020.50  "
      ]
     },
     "execution_count": 27,
     "metadata": {},
     "output_type": "execute_result"
    }
   ],
   "source": [
    "forecast_2017 = forecast_2017.rename(columns = {\n",
    "    'кол-во_визитов_x':'кол-во_визитов_2016'\n",
    "})\n",
    "forecast_2017.head(3)"
   ]
  },
  {
   "cell_type": "markdown",
   "id": "8028806d",
   "metadata": {},
   "source": [
    "### Визуализация данных"
   ]
  },
  {
   "cell_type": "code",
   "execution_count": 28,
   "id": "467ed74e",
   "metadata": {},
   "outputs": [
    {
     "data": {
      "image/png": "[encoded data removed]",
      "text/plain": [
       "<Figure size 720x360 with 1 Axes>"
      ]
     },
     "metadata": {
      "needs_background": "light"
     },
     "output_type": "display_data"
    }
   ],
   "source": [
    "df = forecast_2017\n",
    "df['кол-во_визитов_2016'] = df['кол-во_визитов_2016']/1000\n",
    "df['прогноз_2017'] = df['прогноз_2017']/1000\n",
    "graph_4 = df.plot(\n",
    "    x = 'номер_недели', y = [\n",
    "        'кол-во_визитов_2016','прогноз_2017'\n",
    "    ],color=['darkorchid','forestgreen'],figsize = (10,5),\n",
    "    title = 'Сравнение кол-ва визитов в 2016 г. и прогноза на 2017 г.',\n",
    "    linewidth = 3,\n",
    "    ylabel = 'Количество визитов, тыс.'\n",
    ").get_figure()\n",
    "\n",
    "plt.grid(color = 'grey',    \n",
    "        linewidth = 0.6,   \n",
    "        linestyle = '--') \n",
    "\n",
    "plt.show()"
   ]
  },
  {
   "cell_type": "markdown",
   "id": "365c69a9",
   "metadata": {},
   "source": [
    "### Экспорт данных"
   ]
  },
  {
   "cell_type": "code",
   "execution_count": 29,
   "id": "d8b2fae1",
   "metadata": {},
   "outputs": [
    {
     "data": {
      "text/plain": [
       "<Picture 'График № 3' in <Sheet [РБК задание.xlsx]Прогноз 2017>>"
      ]
     },
     "execution_count": 29,
     "metadata": {},
     "output_type": "execute_result"
    }
   ],
   "source": [
    "wb = xw.Book('РБК задание.xlsx')\n",
    "sht2 = wb.sheets[2]\n",
    "sht2.name = \"Прогноз 2017\"\n",
    "\n",
    "sht2[\"A1\"].options(\n",
    "    pd.DataFrame, header=1, index=False, expand='table'\n",
    ").value = forecast_2017\n",
    "\n",
    "\n",
    "sht2.pictures.add(\n",
    "    graph_4,\n",
    "    name=\"График № 3\",\n",
    "    update=True,\n",
    "    left=sht2.range(\"F2\").left,\n",
    "    top=sht2.range(\"F2\").top,\n",
    "    height=300,\n",
    "    width=600,\n",
    ")"
   ]
  }
 ],
 "metadata": {
  "kernelspec": {
   "display_name": "Python 3 (ipykernel)",
   "language": "python",
   "name": "python3"
  },
  "language_info": {
   "codemirror_mode": {
    "name": "ipython",
    "version": 3
   },
   "file_extension": ".py",
   "mimetype": "text/x-python",
   "name": "python",
   "nbconvert_exporter": "python",
   "pygments_lexer": "ipython3",
   "version": "3.9.12"
  }
 },
 "nbformat": 4,
 "nbformat_minor": 5
}
